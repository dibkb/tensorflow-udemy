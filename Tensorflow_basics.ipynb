{
  "nbformat": 4,
  "nbformat_minor": 0,
  "metadata": {
    "colab": {
      "provenance": [],
      "authorship_tag": "ABX9TyNR2tNqadXz3hMch3rrjLZU",
      "include_colab_link": true
    },
    "kernelspec": {
      "name": "python3",
      "display_name": "Python 3"
    },
    "language_info": {
      "name": "python"
    }
  },
  "cells": [
    {
      "cell_type": "markdown",
      "metadata": {
        "id": "view-in-github",
        "colab_type": "text"
      },
      "source": [
        "<a href=\"https://colab.research.google.com/github/dibkb/tensorflow-udemy/blob/main/Tensorflow_basics.ipynb\" target=\"_parent\"><img src=\"https://colab.research.google.com/assets/colab-badge.svg\" alt=\"Open In Colab\"/></a>"
      ]
    },
    {
      "cell_type": "markdown",
      "source": [
        "Learning the fundamentals of tensorflow"
      ],
      "metadata": {
        "id": "NGsN5ASQfYJ-"
      }
    },
    {
      "cell_type": "code",
      "source": [
        "import tensorflow as tf"
      ],
      "metadata": {
        "id": "gBgNuFPubpva"
      },
      "execution_count": 3,
      "outputs": []
    },
    {
      "cell_type": "code",
      "source": [
        "print(tf.__version__)"
      ],
      "metadata": {
        "id": "VwsLj7mabpxi",
        "colab": {
          "base_uri": "https://localhost:8080/"
        },
        "outputId": "05140b24-bf3b-4bcd-9e47-31ac82e826aa"
      },
      "execution_count": 4,
      "outputs": [
        {
          "output_type": "stream",
          "name": "stdout",
          "text": [
            "2.14.0\n"
          ]
        }
      ]
    },
    {
      "cell_type": "code",
      "source": [
        "# Creating tensors\n",
        "scaler = tf.constant(9)\n",
        "scaler"
      ],
      "metadata": {
        "id": "v1MccrFbbpzt",
        "colab": {
          "base_uri": "https://localhost:8080/"
        },
        "outputId": "29bcfbd0-87fd-45e6-c3b9-337b4254bc82"
      },
      "execution_count": 5,
      "outputs": [
        {
          "output_type": "execute_result",
          "data": {
            "text/plain": [
              "<tf.Tensor: shape=(), dtype=int32, numpy=9>"
            ]
          },
          "metadata": {},
          "execution_count": 5
        }
      ]
    },
    {
      "cell_type": "code",
      "source": [
        "# Check dimensions\n",
        "scaler.ndim"
      ],
      "metadata": {
        "id": "1a9lWbkPbp1p",
        "colab": {
          "base_uri": "https://localhost:8080/"
        },
        "outputId": "aac4cdbe-09f7-401e-bf3f-821faeca36ee"
      },
      "execution_count": 7,
      "outputs": [
        {
          "output_type": "execute_result",
          "data": {
            "text/plain": [
              "0"
            ]
          },
          "metadata": {},
          "execution_count": 7
        }
      ]
    },
    {
      "cell_type": "code",
      "source": [
        "# matrix dimensions\n",
        "matrix = tf.constant([[1,2],\n",
        "                     [2,4]])\n",
        "matrix"
      ],
      "metadata": {
        "colab": {
          "base_uri": "https://localhost:8080/"
        },
        "id": "895kTon_hRLK",
        "outputId": "18a85cc7-0a0d-4a43-fc0e-f4c48af47cd9"
      },
      "execution_count": 10,
      "outputs": [
        {
          "output_type": "execute_result",
          "data": {
            "text/plain": [
              "<tf.Tensor: shape=(2, 2), dtype=int32, numpy=\n",
              "array([[1, 2],\n",
              "       [2, 4]], dtype=int32)>"
            ]
          },
          "metadata": {},
          "execution_count": 10
        }
      ]
    },
    {
      "cell_type": "code",
      "source": [
        "matrix.ndim"
      ],
      "metadata": {
        "colab": {
          "base_uri": "https://localhost:8080/"
        },
        "id": "TMYIz_rTiEIl",
        "outputId": "a3613318-1b30-44bd-ce01-744d6282c0fc"
      },
      "execution_count": 11,
      "outputs": [
        {
          "output_type": "execute_result",
          "data": {
            "text/plain": [
              "2"
            ]
          },
          "metadata": {},
          "execution_count": 11
        }
      ]
    },
    {
      "cell_type": "code",
      "source": [
        "# flaot_matrix\n",
        "matrixTwo = tf.constant([\n",
        "    [3.0,4],\n",
        "    [3,4.4],\n",
        "    [4,5]\n",
        "],dtype = tf.float16)\n",
        "matrixTwo"
      ],
      "metadata": {
        "colab": {
          "base_uri": "https://localhost:8080/"
        },
        "id": "8Uu8B6ImiUPD",
        "outputId": "c5bc8f1f-d930-4f45-c4a8-27ad3ca8309e"
      },
      "execution_count": 14,
      "outputs": [
        {
          "output_type": "execute_result",
          "data": {
            "text/plain": [
              "<tf.Tensor: shape=(3, 2), dtype=float16, numpy=\n",
              "array([[3. , 4. ],\n",
              "       [3. , 4.4],\n",
              "       [4. , 5. ]], dtype=float16)>"
            ]
          },
          "metadata": {},
          "execution_count": 14
        }
      ]
    },
    {
      "cell_type": "code",
      "source": [],
      "metadata": {
        "id": "FHyZ1XQYi_0S"
      },
      "execution_count": null,
      "outputs": []
    }
  ]
}