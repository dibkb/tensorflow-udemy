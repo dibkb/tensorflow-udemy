{
  "nbformat": 4,
  "nbformat_minor": 0,
  "metadata": {
    "colab": {
      "provenance": [],
      "gpuType": "T4",
      "authorship_tag": "ABX9TyNmZTr0IRulKbP7I36yyPwg",
      "include_colab_link": true
    },
    "kernelspec": {
      "name": "python3",
      "display_name": "Python 3"
    },
    "language_info": {
      "name": "python"
    },
    "accelerator": "GPU"
  },
  "cells": [
    {
      "cell_type": "markdown",
      "metadata": {
        "id": "view-in-github",
        "colab_type": "text"
      },
      "source": [
        "<a href=\"https://colab.research.google.com/github/dibkb/tensorflow-udemy/blob/main/CNN(transfer_learning).ipynb\" target=\"_parent\"><img src=\"https://colab.research.google.com/assets/colab-badge.svg\" alt=\"Open In Colab\"/></a>"
      ]
    },
    {
      "cell_type": "code",
      "execution_count": 1,
      "metadata": {
        "colab": {
          "base_uri": "https://localhost:8080/"
        },
        "id": "BT_nO3ncnWPH",
        "outputId": "f4ae6c75-284b-433c-f03d-fc673e55a6ab"
      },
      "outputs": [
        {
          "output_type": "stream",
          "name": "stdout",
          "text": [
            "--2023-12-12 15:26:55--  https://storage.googleapis.com/ztm_tf_course/food_vision/10_food_classes_10_percent.zip\n",
            "Resolving storage.googleapis.com (storage.googleapis.com)... 74.125.195.207, 172.253.117.207, 173.194.202.207, ...\n",
            "Connecting to storage.googleapis.com (storage.googleapis.com)|74.125.195.207|:443... connected.\n",
            "HTTP request sent, awaiting response... 200 OK\n",
            "Length: 168546183 (161M) [application/zip]\n",
            "Saving to: ‘10_food_classes_10_percent.zip’\n",
            "\n",
            "10_food_classes_10_ 100%[===================>] 160.74M   206MB/s    in 0.8s    \n",
            "\n",
            "2023-12-12 15:26:56 (206 MB/s) - ‘10_food_classes_10_percent.zip’ saved [168546183/168546183]\n",
            "\n"
          ]
        }
      ],
      "source": [
        "# Get data (10% of labels)\n",
        "import zipfile\n",
        "\n",
        "# Download data\n",
        "!wget https://storage.googleapis.com/ztm_tf_course/food_vision/10_food_classes_10_percent.zip\n",
        "\n",
        "# Unzip the downloaded file\n",
        "zip_ref = zipfile.ZipFile(\"10_food_classes_10_percent.zip\", \"r\")\n",
        "zip_ref.extractall()\n",
        "zip_ref.close()"
      ]
    },
    {
      "cell_type": "code",
      "source": [
        "# How many images in each folder?\n",
        "import os\n",
        "\n",
        "# Walk through 10 percent data directory and list number of files\n",
        "for dirpath, dirnames, filenames in os.walk(\"10_food_classes_10_percent\"):\n",
        "  print(f\"There are {len(dirnames)} directories and {len(filenames)} images in '{dirpath}'.\")"
      ],
      "metadata": {
        "colab": {
          "base_uri": "https://localhost:8080/"
        },
        "id": "VSQMxvKmnfXF",
        "outputId": "044044fe-d696-4f26-da74-3e013c151b37"
      },
      "execution_count": 2,
      "outputs": [
        {
          "output_type": "stream",
          "name": "stdout",
          "text": [
            "There are 2 directories and 0 images in '10_food_classes_10_percent'.\n",
            "There are 10 directories and 0 images in '10_food_classes_10_percent/train'.\n",
            "There are 0 directories and 75 images in '10_food_classes_10_percent/train/hamburger'.\n",
            "There are 0 directories and 75 images in '10_food_classes_10_percent/train/fried_rice'.\n",
            "There are 0 directories and 75 images in '10_food_classes_10_percent/train/ramen'.\n",
            "There are 0 directories and 75 images in '10_food_classes_10_percent/train/pizza'.\n",
            "There are 0 directories and 75 images in '10_food_classes_10_percent/train/chicken_curry'.\n",
            "There are 0 directories and 75 images in '10_food_classes_10_percent/train/sushi'.\n",
            "There are 0 directories and 75 images in '10_food_classes_10_percent/train/ice_cream'.\n",
            "There are 0 directories and 75 images in '10_food_classes_10_percent/train/chicken_wings'.\n",
            "There are 0 directories and 75 images in '10_food_classes_10_percent/train/steak'.\n",
            "There are 0 directories and 75 images in '10_food_classes_10_percent/train/grilled_salmon'.\n",
            "There are 10 directories and 0 images in '10_food_classes_10_percent/test'.\n",
            "There are 0 directories and 250 images in '10_food_classes_10_percent/test/hamburger'.\n",
            "There are 0 directories and 250 images in '10_food_classes_10_percent/test/fried_rice'.\n",
            "There are 0 directories and 250 images in '10_food_classes_10_percent/test/ramen'.\n",
            "There are 0 directories and 250 images in '10_food_classes_10_percent/test/pizza'.\n",
            "There are 0 directories and 250 images in '10_food_classes_10_percent/test/chicken_curry'.\n",
            "There are 0 directories and 250 images in '10_food_classes_10_percent/test/sushi'.\n",
            "There are 0 directories and 250 images in '10_food_classes_10_percent/test/ice_cream'.\n",
            "There are 0 directories and 250 images in '10_food_classes_10_percent/test/chicken_wings'.\n",
            "There are 0 directories and 250 images in '10_food_classes_10_percent/test/steak'.\n",
            "There are 0 directories and 250 images in '10_food_classes_10_percent/test/grilled_salmon'.\n"
          ]
        }
      ]
    },
    {
      "cell_type": "markdown",
      "source": [
        "# New section"
      ],
      "metadata": {
        "id": "GISwzD3YtY-3"
      }
    },
    {
      "cell_type": "code",
      "source": [
        "from tensorflow.keras.preprocessing.image import ImageDataGenerator\n",
        "\n",
        "SHAPE = (224,224)\n",
        "BATCH_SIZE = 32\n",
        "SEED = 42\n",
        "train_dategen = ImageDataGenerator(rescale = 1/255.)\n",
        "test_dategen = ImageDataGenerator(rescale = 1/255.)\n",
        "\n",
        "train_dir = \"10_food_classes_10_percent/train/\"\n",
        "test_dir = \"10_food_classes_10_percent/test/\"\n",
        "\n",
        "train_data_ten = train_dategen.flow_from_directory(train_dir,\n",
        "    target_size=SHAPE,\n",
        "    color_mode='rgb',\n",
        "    class_mode='categorical',\n",
        "    seed=SEED,\n",
        "    batch_size=BATCH_SIZE)\n",
        "\n",
        "test_data = test_dategen.flow_from_directory(test_dir,\n",
        "    target_size=SHAPE,\n",
        "    color_mode='rgb',\n",
        "    class_mode='categorical',\n",
        "    seed=SEED,\n",
        "    batch_size=BATCH_SIZE)"
      ],
      "metadata": {
        "colab": {
          "base_uri": "https://localhost:8080/"
        },
        "id": "NlYwE1NNtFR8",
        "outputId": "6e07ff3d-7b37-44aa-fd38-9016ddfffaaf"
      },
      "execution_count": 36,
      "outputs": [
        {
          "output_type": "stream",
          "name": "stdout",
          "text": [
            "Found 750 images belonging to 10 classes.\n",
            "Found 2500 images belonging to 10 classes.\n"
          ]
        }
      ]
    },
    {
      "cell_type": "code",
      "source": [
        "#Tensorboard calllbaclk\n",
        "import datetime\n",
        "def create_tensorboard_callback(dir_name, experiment_name):\n",
        "  log_dir = dir_name + \"/\" + experiment_name + \"/\" + datetime.datetime.now().strftime(\"%Y%m%d-%H%M%S\")\n",
        "  tensorboard_callback = tf.keras.callbacks.TensorBoard(\n",
        "      log_dir=log_dir\n",
        "  )\n",
        "  print(f\"Saving TensorBoard log files to: {log_dir}\")\n",
        "  return tensorboard_callback"
      ],
      "metadata": {
        "id": "1Et8TP-SvcK4"
      },
      "execution_count": 10,
      "outputs": []
    },
    {
      "cell_type": "code",
      "source": [
        "import tensorflow as tf\n",
        "import tensorflow_hub as hub\n",
        "from tensorflow.keras import layers"
      ],
      "metadata": {
        "id": "AR5HdmHpwfL0"
      },
      "execution_count": 11,
      "outputs": []
    },
    {
      "cell_type": "code",
      "source": [
        "def create_model(url,num_classes):\n",
        "  m = tf.keras.Sequential([\n",
        "    hub.KerasLayer(url,trainable=False,input_shape =SHAPE+(3,),name = \"feature_extractor_layer\"),\n",
        "    layers.Dense(num_classes,activation = \"softmax\",name='output_layer')\n",
        "  ])\n",
        "  return m\n"
      ],
      "metadata": {
        "id": "EMSPvtrlwsTI"
      },
      "execution_count": 31,
      "outputs": []
    },
    {
      "cell_type": "code",
      "source": [
        "# Create model\n",
        "# resnet_url = 'https://www.kaggle.com/models/tensorflow/resnet-50/frameworks/TensorFlow2/variations/classification/versions/1'\n",
        "resnet_url = 'https://kaggle.com/models/google/resnet-v2/frameworks/TensorFlow2/variations/50-feature-vector/versions/1'\n",
        "# resnet_url = 'https://www.kaggle.com/models/tensorflow/efficientnet/frameworks/TensorFlow2/variations/b0-classification/versions/1'\n",
        "resnet_model = create_model(resnet_url, num_classes=train_data_ten.num_classes)\n",
        "resnet_model.compile(loss=\"categorical_crossentropy\",optimizer = \"adam\",metrics=[\"accuracy\"])"
      ],
      "metadata": {
        "id": "LtyAOoapwsWb"
      },
      "execution_count": 50,
      "outputs": []
    },
    {
      "cell_type": "code",
      "source": [
        "# Fit the model\n",
        "resnet_history = resnet_model.fit(train_data_ten,\n",
        "                                  epochs=10,\n",
        "                                  steps_per_epoch=len(train_data_ten),\n",
        "                                  validation_data=test_data,\n",
        "                                  validation_steps=len(test_data),\n",
        "                                  # Add TensorBoard callback to model (callbacks parameter takes a list)\n",
        "                                  callbacks=[create_tensorboard_callback(dir_name=\"tensorflow_hub\", # save experiment logs here\n",
        "                                                                         experiment_name=\"resnet50V2\")])"
      ],
      "metadata": {
        "colab": {
          "base_uri": "https://localhost:8080/"
        },
        "id": "OZSkybFZwsaF",
        "outputId": "40471715-de54-41ec-9968-7998fd709527"
      },
      "execution_count": 51,
      "outputs": [
        {
          "output_type": "stream",
          "name": "stdout",
          "text": [
            "Saving TensorBoard log files to: tensorflow_hub/resnet50V2/20231212-165315\n",
            "Epoch 1/10\n",
            "24/24 [==============================] - 16s 510ms/step - loss: 1.9033 - accuracy: 0.3520 - val_loss: 1.1964 - val_accuracy: 0.6212\n",
            "Epoch 2/10\n",
            "24/24 [==============================] - 11s 451ms/step - loss: 0.8742 - accuracy: 0.7600 - val_loss: 0.8397 - val_accuracy: 0.7368\n",
            "Epoch 3/10\n",
            "24/24 [==============================] - 11s 458ms/step - loss: 0.5979 - accuracy: 0.8280 - val_loss: 0.7461 - val_accuracy: 0.7520\n",
            "Epoch 4/10\n",
            "24/24 [==============================] - 11s 465ms/step - loss: 0.4643 - accuracy: 0.8853 - val_loss: 0.6996 - val_accuracy: 0.7728\n",
            "Epoch 5/10\n",
            "24/24 [==============================] - 11s 468ms/step - loss: 0.3689 - accuracy: 0.9160 - val_loss: 0.6787 - val_accuracy: 0.7864\n",
            "Epoch 6/10\n",
            "24/24 [==============================] - 10s 433ms/step - loss: 0.3013 - accuracy: 0.9480 - val_loss: 0.6555 - val_accuracy: 0.7924\n",
            "Epoch 7/10\n",
            "24/24 [==============================] - 11s 460ms/step - loss: 0.2529 - accuracy: 0.9600 - val_loss: 0.6419 - val_accuracy: 0.7932\n",
            "Epoch 8/10\n",
            "24/24 [==============================] - 11s 459ms/step - loss: 0.2115 - accuracy: 0.9720 - val_loss: 0.6378 - val_accuracy: 0.7912\n",
            "Epoch 9/10\n",
            "24/24 [==============================] - 11s 450ms/step - loss: 0.1846 - accuracy: 0.9800 - val_loss: 0.6316 - val_accuracy: 0.7912\n",
            "Epoch 10/10\n",
            "24/24 [==============================] - 11s 461ms/step - loss: 0.1535 - accuracy: 0.9880 - val_loss: 0.6215 - val_accuracy: 0.7980\n"
          ]
        }
      ]
    },
    {
      "cell_type": "code",
      "source": [
        "import matplotlib.pyplot as plt\n",
        "plt.style.use('ggplot')\n",
        "def plot_history(model_history):\n",
        "  df = pd.DataFrame(model_history.history)\n",
        "  loss = df['loss']\n",
        "  accuracy = df['accuracy']\n",
        "  val_loss = df['val_loss']\n",
        "  val_accuracy = df['val_accuracy']\n",
        "  epochs = range(len(df['val_loss']))\n",
        "\n",
        "    # Plot loss\n",
        "  plt.plot(epochs, loss, label='training_loss')\n",
        "  plt.plot(epochs, val_loss, label='val_loss')\n",
        "  plt.title('Loss')\n",
        "  plt.xlabel('Epochs')\n",
        "  plt.legend()\n",
        "\n",
        "   # Plot accuracy\n",
        "  plt.figure()\n",
        "  plt.plot(epochs, accuracy, label='training_accuracy')\n",
        "  plt.plot(epochs, val_accuracy, label='val_accuracy')\n",
        "  plt.title('Accuracy')\n",
        "  plt.xlabel('Epochs')\n",
        "  plt.legend()\n"
      ],
      "metadata": {
        "id": "f9WwzTmT9R3y"
      },
      "execution_count": 67,
      "outputs": []
    },
    {
      "cell_type": "code",
      "source": [
        "plot_history(resnet_history)"
      ],
      "metadata": {
        "colab": {
          "base_uri": "https://localhost:8080/",
          "height": 937
        },
        "id": "TUM9QzdI_DDI",
        "outputId": "5ce8893f-e267-48cb-8d25-979356b944b9"
      },
      "execution_count": 68,
      "outputs": [
        {
          "output_type": "display_data",
          "data": {
            "text/plain": [
              "<Figure size 640x480 with 1 Axes>"
            ],
            "image/png": "[encoded data removed]"
          },
          "metadata": {}
        },
        {
          "output_type": "display_data",
          "data": {
            "text/plain": [
              "<Figure size 640x480 with 1 Axes>"
            ],
            "image/png": "[encoded data removed]"
          },
          "metadata": {}
        }
      ]
    },
    {
      "cell_type": "code",
      "source": [
        "range(len(resnet_history.history[\"loss\"]))\n"
      ],
      "metadata": {
        "colab": {
          "base_uri": "https://localhost:8080/"
        },
        "id": "aRIbV6K5wsfy",
        "outputId": "464780eb-2d86-4ef7-a224-c21fbc85a4fa"
      },
      "execution_count": 61,
      "outputs": [
        {
          "output_type": "execute_result",
          "data": {
            "text/plain": [
              "range(0, 10)"
            ]
          },
          "metadata": {},
          "execution_count": 61
        }
      ]
    },
    {
      "cell_type": "code",
      "source": [],
      "metadata": {
        "id": "Qlz0c2U4wsh3"
      },
      "execution_count": null,
      "outputs": []
    },
    {
      "cell_type": "code",
      "source": [],
      "metadata": {
        "id": "xdXBo-Y0wsjs"
      },
      "execution_count": null,
      "outputs": []
    },
    {
      "cell_type": "code",
      "source": [],
      "metadata": {
        "id": "tqzVrecrwsly"
      },
      "execution_count": null,
      "outputs": []
    },
    {
      "cell_type": "code",
      "source": [],
      "metadata": {
        "id": "CmZ5geeTwsn3"
      },
      "execution_count": null,
      "outputs": []
    },
    {
      "cell_type": "code",
      "source": [],
      "metadata": {
        "id": "w-SAJa17wsps"
      },
      "execution_count": null,
      "outputs": []
    },
    {
      "cell_type": "code",
      "source": [],
      "metadata": {
        "id": "NWTTVY4iwsrh"
      },
      "execution_count": null,
      "outputs": []
    }
  ]
}