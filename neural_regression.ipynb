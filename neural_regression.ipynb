{
  "nbformat": 4,
  "nbformat_minor": 0,
  "metadata": {
    "colab": {
      "provenance": [],
      "gpuType": "T4",
      "authorship_tag": "ABX9TyPNqb9Wcr83d109AxPxBMid",
      "include_colab_link": true
    },
    "kernelspec": {
      "name": "python3",
      "display_name": "Python 3"
    },
    "language_info": {
      "name": "python"
    },
    "accelerator": "GPU"
  },
  "cells": [
    {
      "cell_type": "markdown",
      "metadata": {
        "id": "view-in-github",
        "colab_type": "text"
      },
      "source": [
        "<a href=\"https://colab.research.google.com/github/dibkb/tensorflow-udemy/blob/main/neural_regression.ipynb\" target=\"_parent\"><img src=\"https://colab.research.google.com/assets/colab-badge.svg\" alt=\"Open In Colab\"/></a>"
      ]
    },
    {
      "cell_type": "code",
      "execution_count": 3,
      "metadata": {
        "id": "X-nKIRVm9SKY"
      },
      "outputs": [],
      "source": [
        "import tensorflow as tf\n",
        "import matplotlib as plt\n",
        "import numpy as np"
      ]
    },
    {
      "cell_type": "markdown",
      "source": [
        "# Introduction to Neural Networks Regression"
      ],
      "metadata": {
        "id": "MSLvLHRN9WgN"
      }
    },
    {
      "cell_type": "code",
      "source": [
        "# Create features (using tensors)\n",
        "X = tf.constant([-7.0, -4.0, -1.0, 2.0, 5.0, 8.0, 11.0, 14.0])\n",
        "\n",
        "# Create labels (using tensors)\n",
        "y = tf.constant([3.0, 6.0, 9.0, 12.0, 15.0, 18.0, 21.0, 24.0])"
      ],
      "metadata": {
        "id": "UGAHFZhs9wNK"
      },
      "execution_count": 4,
      "outputs": []
    },
    {
      "cell_type": "code",
      "source": [
        "X_new = tf.squeeze(X+ np.random.rand(1, 8))"
      ],
      "metadata": {
        "id": "wEr54XySCJaI"
      },
      "execution_count": 5,
      "outputs": []
    },
    {
      "cell_type": "code",
      "source": [
        "plt.pyplot.scatter(X,y)\n",
        "plt.pyplot.scatter(X_new,y)"
      ],
      "metadata": {
        "colab": {
          "base_uri": "https://localhost:8080/",
          "height": 453
        },
        "id": "FPmnNOIf-O6K",
        "outputId": "fa0d845d-d5a0-4fe2-e3a1-4371d3756cde"
      },
      "execution_count": 6,
      "outputs": [
        {
          "output_type": "execute_result",
          "data": {
            "text/plain": [
              "<matplotlib.collections.PathCollection at 0x7a4e66aabd60>"
            ]
          },
          "metadata": {},
          "execution_count": 6
        },
        {
          "output_type": "display_data",
          "data": {
            "text/plain": [
              "<Figure size 640x480 with 1 Axes>"
            ],
            "image/png": "[encoded data removed]"
          },
          "metadata": {}
        }
      ]
    },
    {
      "cell_type": "markdown",
      "source": [
        " Writing Neural network"
      ],
      "metadata": {
        "id": "jRwPeNpN-WLu"
      }
    },
    {
      "cell_type": "code",
      "source": [
        "# Set random seed\n",
        "tf.random.set_seed(42)\n",
        "# Create a model using the Sequential API\n",
        "model = tf.keras.Sequential([\n",
        "  tf.keras.layers.Dense(1)\n",
        "])\n",
        "# Compile the model\n",
        "model.compile(loss=tf.keras.losses.mae, # mae is short for mean absolute error\n",
        "              optimizer=tf.keras.optimizers.SGD(), # SGD is short for stochastic gradient descent\n",
        "              metrics=[\"mae\"])\n",
        "\n",
        "# Fit the model\n",
        "# model.fit(X, y, epochs=5) # this will break with TensorFlow 2.7.0+\n",
        "model.fit(tf.expand_dims(X, axis=-1), y, epochs=5)"
      ],
      "metadata": {
        "colab": {
          "base_uri": "https://localhost:8080/"
        },
        "id": "NntM9ieZ-k7R",
        "outputId": "155891f1-ddcc-4b33-9643-9084d810ea45"
      },
      "execution_count": 7,
      "outputs": [
        {
          "output_type": "stream",
          "name": "stdout",
          "text": [
            "Epoch 1/5\n",
            "1/1 [==============================] - 4s 4s/step - loss: 18.8384 - mae: 18.8384\n",
            "Epoch 2/5\n",
            "1/1 [==============================] - 0s 10ms/step - loss: 18.5571 - mae: 18.5571\n",
            "Epoch 3/5\n",
            "1/1 [==============================] - 0s 10ms/step - loss: 18.2759 - mae: 18.2759\n",
            "Epoch 4/5\n",
            "1/1 [==============================] - 0s 9ms/step - loss: 17.9946 - mae: 17.9946\n",
            "Epoch 5/5\n",
            "1/1 [==============================] - 0s 9ms/step - loss: 17.7134 - mae: 17.7134\n"
          ]
        },
        {
          "output_type": "execute_result",
          "data": {
            "text/plain": [
              "<keras.src.callbacks.History at 0x7a4e54dab4f0>"
            ]
          },
          "metadata": {},
          "execution_count": 7
        }
      ]
    },
    {
      "cell_type": "code",
      "source": [
        "tf.random.set_seed(9)\n",
        "model = tf.keras.Sequential([\n",
        "    tf.keras.layers.Dense(1)\n",
        "])\n",
        "model.compile(loss = tf.keras.losses.mae,\n",
        "              optimizer = tf.keras.optimizers.SGD(),\n",
        "              metrics = [\"mae\"])"
      ],
      "metadata": {
        "id": "RmmdAd9vHJyZ"
      },
      "execution_count": 8,
      "outputs": []
    },
    {
      "cell_type": "code",
      "source": [
        "model.fit(tf.expand_dims(X,axis = -1),y, epochs = 5)"
      ],
      "metadata": {
        "colab": {
          "base_uri": "https://localhost:8080/"
        },
        "id": "GqTz0TQzHJ0p",
        "outputId": "147eb577-06b4-48ad-a095-8c2e66cb028e"
      },
      "execution_count": 9,
      "outputs": [
        {
          "output_type": "stream",
          "name": "stdout",
          "text": [
            "Epoch 1/5\n",
            "1/1 [==============================] - 0s 323ms/step - loss: 11.0535 - mae: 11.0535\n",
            "Epoch 2/5\n",
            "1/1 [==============================] - 0s 11ms/step - loss: 10.9210 - mae: 10.9210\n",
            "Epoch 3/5\n",
            "1/1 [==============================] - 0s 10ms/step - loss: 10.7885 - mae: 10.7885\n",
            "Epoch 4/5\n",
            "1/1 [==============================] - 0s 10ms/step - loss: 10.6560 - mae: 10.6560\n",
            "Epoch 5/5\n",
            "1/1 [==============================] - 0s 11ms/step - loss: 10.5235 - mae: 10.5235\n"
          ]
        },
        {
          "output_type": "execute_result",
          "data": {
            "text/plain": [
              "<keras.src.callbacks.History at 0x7a4e52c74280>"
            ]
          },
          "metadata": {},
          "execution_count": 9
        }
      ]
    },
    {
      "cell_type": "code",
      "source": [
        "model.fit(tf.expand_dims(X_new,axis = -1),y, epochs = 5)"
      ],
      "metadata": {
        "colab": {
          "base_uri": "https://localhost:8080/"
        },
        "id": "LFuQmjdVHJ2v",
        "outputId": "dd1097b4-981f-4485-8d61-248d69710361"
      },
      "execution_count": 10,
      "outputs": [
        {
          "output_type": "stream",
          "name": "stdout",
          "text": [
            "Epoch 1/5\n",
            "1/1 [==============================] - 0s 10ms/step - loss: 9.9403 - mae: 9.9403\n",
            "Epoch 2/5\n",
            "1/1 [==============================] - 0s 11ms/step - loss: 9.7691 - mae: 9.7691\n",
            "Epoch 3/5\n",
            "1/1 [==============================] - 0s 9ms/step - loss: 9.5978 - mae: 9.5978\n",
            "Epoch 4/5\n",
            "1/1 [==============================] - 0s 8ms/step - loss: 9.4266 - mae: 9.4266\n",
            "Epoch 5/5\n",
            "1/1 [==============================] - 0s 10ms/step - loss: 9.2553 - mae: 9.2553\n"
          ]
        },
        {
          "output_type": "execute_result",
          "data": {
            "text/plain": [
              "<keras.src.callbacks.History at 0x7a4e52cf5900>"
            ]
          },
          "metadata": {},
          "execution_count": 10
        }
      ]
    },
    {
      "cell_type": "code",
      "source": [
        "model.predict([9,10])"
      ],
      "metadata": {
        "colab": {
          "base_uri": "https://localhost:8080/"
        },
        "id": "eYk8zpRPHJ41",
        "outputId": "da32da15-78a7-4511-ac3d-5cf2af2d9dfb"
      },
      "execution_count": 11,
      "outputs": [
        {
          "output_type": "stream",
          "name": "stdout",
          "text": [
            "1/1 [==============================] - 0s 71ms/step\n"
          ]
        },
        {
          "output_type": "execute_result",
          "data": {
            "text/plain": [
              "array([[ 9.772993],\n",
              "       [10.847771]], dtype=float32)"
            ]
          },
          "metadata": {},
          "execution_count": 11
        }
      ]
    },
    {
      "cell_type": "markdown",
      "source": [
        "Increase the no of epochs"
      ],
      "metadata": {
        "id": "uPJkiVYPJGLq"
      }
    },
    {
      "cell_type": "code",
      "source": [
        "model = tf.keras.Sequential([\n",
        "    tf.keras.layers.Dense(100,activation=\"relu\"),\n",
        "    tf.keras.layers.Dense(1)\n",
        "])\n",
        "model.compile(loss = tf.keras.losses.mae,optimizer = tf.keras.optimizers.SGD(),metrics =[\"mae\"])"
      ],
      "metadata": {
        "id": "DZ5x7-yHfxbC"
      },
      "execution_count": 21,
      "outputs": []
    },
    {
      "cell_type": "code",
      "source": [
        "model.fit(tf.expand_dims(X_new,axis = -1),y, epochs = 100)"
      ],
      "metadata": {
        "colab": {
          "base_uri": "https://localhost:8080/"
        },
        "id": "BVM1io1vg7lR",
        "outputId": "8fadf7be-20d9-45fa-a59c-709d7c42e4ca"
      },
      "execution_count": 22,
      "outputs": [
        {
          "output_type": "stream",
          "name": "stdout",
          "text": [
            "Epoch 1/100\n",
            "1/1 [==============================] - 1s 581ms/step - loss: 13.1442 - mae: 13.1442\n",
            "Epoch 2/100\n",
            "1/1 [==============================] - 0s 14ms/step - loss: 12.4476 - mae: 12.4476\n",
            "Epoch 3/100\n",
            "1/1 [==============================] - 0s 11ms/step - loss: 11.7524 - mae: 11.7524\n",
            "Epoch 4/100\n",
            "1/1 [==============================] - 0s 11ms/step - loss: 11.0563 - mae: 11.0563\n",
            "Epoch 5/100\n",
            "1/1 [==============================] - 0s 10ms/step - loss: 10.3419 - mae: 10.3419\n",
            "Epoch 6/100\n",
            "1/1 [==============================] - 0s 10ms/step - loss: 9.5940 - mae: 9.5940\n",
            "Epoch 7/100\n",
            "1/1 [==============================] - 0s 15ms/step - loss: 8.8174 - mae: 8.8174\n",
            "Epoch 8/100\n",
            "1/1 [==============================] - 0s 10ms/step - loss: 7.9973 - mae: 7.9973\n",
            "Epoch 9/100\n",
            "1/1 [==============================] - 0s 10ms/step - loss: 7.1275 - mae: 7.1275\n",
            "Epoch 10/100\n",
            "1/1 [==============================] - 0s 10ms/step - loss: 6.1992 - mae: 6.1992\n",
            "Epoch 11/100\n",
            "1/1 [==============================] - 0s 12ms/step - loss: 5.1902 - mae: 5.1902\n",
            "Epoch 12/100\n",
            "1/1 [==============================] - 0s 11ms/step - loss: 4.0984 - mae: 4.0984\n",
            "Epoch 13/100\n",
            "1/1 [==============================] - 0s 11ms/step - loss: 3.7765 - mae: 3.7765\n",
            "Epoch 14/100\n",
            "1/1 [==============================] - 0s 13ms/step - loss: 3.6917 - mae: 3.6917\n",
            "Epoch 15/100\n",
            "1/1 [==============================] - 0s 10ms/step - loss: 3.6540 - mae: 3.6540\n",
            "Epoch 16/100\n",
            "1/1 [==============================] - 0s 11ms/step - loss: 3.6815 - mae: 3.6815\n",
            "Epoch 17/100\n",
            "1/1 [==============================] - 0s 10ms/step - loss: 3.6243 - mae: 3.6243\n",
            "Epoch 18/100\n",
            "1/1 [==============================] - 0s 11ms/step - loss: 3.6678 - mae: 3.6678\n",
            "Epoch 19/100\n",
            "1/1 [==============================] - 0s 10ms/step - loss: 3.6500 - mae: 3.6500\n",
            "Epoch 20/100\n",
            "1/1 [==============================] - 0s 10ms/step - loss: 3.6168 - mae: 3.6168\n",
            "Epoch 21/100\n",
            "1/1 [==============================] - 0s 10ms/step - loss: 3.6794 - mae: 3.6794\n",
            "Epoch 22/100\n",
            "1/1 [==============================] - 0s 10ms/step - loss: 3.6221 - mae: 3.6221\n",
            "Epoch 23/100\n",
            "1/1 [==============================] - 0s 9ms/step - loss: 3.6374 - mae: 3.6374\n",
            "Epoch 24/100\n",
            "1/1 [==============================] - 0s 10ms/step - loss: 3.6454 - mae: 3.6454\n",
            "Epoch 25/100\n",
            "1/1 [==============================] - 0s 9ms/step - loss: 3.5959 - mae: 3.5959\n",
            "Epoch 26/100\n",
            "1/1 [==============================] - 0s 11ms/step - loss: 3.6651 - mae: 3.6651\n",
            "Epoch 27/100\n",
            "1/1 [==============================] - 0s 10ms/step - loss: 3.6202 - mae: 3.6202\n",
            "Epoch 28/100\n",
            "1/1 [==============================] - 0s 18ms/step - loss: 3.6059 - mae: 3.6059\n",
            "Epoch 29/100\n",
            "1/1 [==============================] - 0s 9ms/step - loss: 3.6435 - mae: 3.6435\n",
            "Epoch 30/100\n",
            "1/1 [==============================] - 0s 10ms/step - loss: 3.5898 - mae: 3.5898\n",
            "Epoch 31/100\n",
            "1/1 [==============================] - 0s 10ms/step - loss: 3.6335 - mae: 3.6335\n",
            "Epoch 32/100\n",
            "1/1 [==============================] - 0s 10ms/step - loss: 3.6179 - mae: 3.6179\n",
            "Epoch 33/100\n",
            "1/1 [==============================] - 0s 11ms/step - loss: 3.5739 - mae: 3.5739\n",
            "Epoch 34/100\n",
            "1/1 [==============================] - 0s 10ms/step - loss: 3.6415 - mae: 3.6415\n",
            "Epoch 35/100\n",
            "1/1 [==============================] - 0s 10ms/step - loss: 3.5844 - mae: 3.5844\n",
            "Epoch 36/100\n",
            "1/1 [==============================] - 0s 10ms/step - loss: 3.6014 - mae: 3.6014\n",
            "Epoch 37/100\n",
            "1/1 [==============================] - 0s 11ms/step - loss: 3.6158 - mae: 3.6158\n",
            "Epoch 38/100\n",
            "1/1 [==============================] - 0s 10ms/step - loss: 3.5591 - mae: 3.5591\n",
            "Epoch 39/100\n",
            "1/1 [==============================] - 0s 12ms/step - loss: 3.6202 - mae: 3.6202\n",
            "Epoch 40/100\n",
            "1/1 [==============================] - 0s 9ms/step - loss: 3.5817 - mae: 3.5817\n",
            "Epoch 41/100\n",
            "1/1 [==============================] - 0s 10ms/step - loss: 3.5641 - mae: 3.5641\n",
            "Epoch 42/100\n",
            "1/1 [==============================] - 0s 12ms/step - loss: 3.6129 - mae: 3.6129\n",
            "Epoch 43/100\n",
            "1/1 [==============================] - 0s 10ms/step - loss: 3.5557 - mae: 3.5557\n",
            "Epoch 44/100\n",
            "1/1 [==============================] - 0s 10ms/step - loss: 3.5861 - mae: 3.5861\n",
            "Epoch 45/100\n",
            "1/1 [==============================] - 0s 10ms/step - loss: 3.5782 - mae: 3.5782\n",
            "Epoch 46/100\n",
            "1/1 [==============================] - 0s 10ms/step - loss: 3.5256 - mae: 3.5256\n",
            "Epoch 47/100\n",
            "1/1 [==============================] - 0s 10ms/step - loss: 3.6093 - mae: 3.6093\n",
            "Epoch 48/100\n",
            "1/1 [==============================] - 0s 10ms/step - loss: 3.5519 - mae: 3.5519\n",
            "Epoch 49/100\n",
            "1/1 [==============================] - 0s 11ms/step - loss: 3.5508 - mae: 3.5508\n",
            "Epoch 50/100\n",
            "1/1 [==============================] - 0s 11ms/step - loss: 3.5743 - mae: 3.5743\n",
            "Epoch 51/100\n",
            "1/1 [==============================] - 0s 11ms/step - loss: 3.5175 - mae: 3.5175\n",
            "Epoch 52/100\n",
            "1/1 [==============================] - 0s 12ms/step - loss: 3.5728 - mae: 3.5728\n",
            "Epoch 53/100\n",
            "1/1 [==============================] - 0s 11ms/step - loss: 3.5478 - mae: 3.5478\n",
            "Epoch 54/100\n",
            "1/1 [==============================] - 0s 11ms/step - loss: 3.5143 - mae: 3.5143\n",
            "Epoch 55/100\n",
            "1/1 [==============================] - 0s 11ms/step - loss: 3.5702 - mae: 3.5702\n",
            "Epoch 56/100\n",
            "1/1 [==============================] - 0s 11ms/step - loss: 3.5130 - mae: 3.5130\n",
            "Epoch 57/100\n",
            "1/1 [==============================] - 0s 10ms/step - loss: 3.5319 - mae: 3.5319\n",
            "Epoch 58/100\n",
            "1/1 [==============================] - 0s 10ms/step - loss: 3.5433 - mae: 3.5433\n",
            "Epoch 59/100\n",
            "1/1 [==============================] - 0s 11ms/step - loss: 3.4867 - mae: 3.4867\n",
            "Epoch 60/100\n",
            "1/1 [==============================] - 0s 10ms/step - loss: 3.5543 - mae: 3.5543\n",
            "Epoch 61/100\n",
            "1/1 [==============================] - 0s 10ms/step - loss: 3.5085 - mae: 3.5085\n",
            "Epoch 62/100\n",
            "1/1 [==============================] - 0s 11ms/step - loss: 3.4924 - mae: 3.4924\n",
            "Epoch 63/100\n",
            "1/1 [==============================] - 0s 10ms/step - loss: 3.5354 - mae: 3.5354\n",
            "Epoch 64/100\n",
            "1/1 [==============================] - 0s 10ms/step - loss: 3.4822 - mae: 3.4822\n",
            "Epoch 65/100\n",
            "1/1 [==============================] - 0s 9ms/step - loss: 3.5158 - mae: 3.5158\n",
            "Epoch 66/100\n",
            "1/1 [==============================] - 0s 10ms/step - loss: 3.5042 - mae: 3.5042\n",
            "Epoch 67/100\n",
            "1/1 [==============================] - 0s 9ms/step - loss: 3.4532 - mae: 3.4532\n",
            "Epoch 68/100\n",
            "1/1 [==============================] - 0s 11ms/step - loss: 3.5274 - mae: 3.5274\n",
            "Epoch 69/100\n",
            "1/1 [==============================] - 0s 10ms/step - loss: 3.4778 - mae: 3.4778\n",
            "Epoch 70/100\n",
            "1/1 [==============================] - 0s 9ms/step - loss: 3.4761 - mae: 3.4761\n",
            "Epoch 71/100\n",
            "1/1 [==============================] - 0s 10ms/step - loss: 3.4999 - mae: 3.4999\n",
            "Epoch 72/100\n",
            "1/1 [==============================] - 0s 10ms/step - loss: 3.4433 - mae: 3.4433\n",
            "Epoch 73/100\n",
            "1/1 [==============================] - 0s 11ms/step - loss: 3.4909 - mae: 3.4909\n",
            "Epoch 74/100\n",
            "1/1 [==============================] - 0s 10ms/step - loss: 3.4700 - mae: 3.4700\n",
            "Epoch 75/100\n",
            "1/1 [==============================] - 0s 10ms/step - loss: 3.4352 - mae: 3.4352\n",
            "Epoch 76/100\n",
            "1/1 [==============================] - 0s 10ms/step - loss: 3.4957 - mae: 3.4957\n",
            "Epoch 77/100\n",
            "1/1 [==============================] - 0s 11ms/step - loss: 3.4390 - mae: 3.4390\n",
            "Epoch 78/100\n",
            "1/1 [==============================] - 0s 12ms/step - loss: 3.4496 - mae: 3.4496\n",
            "Epoch 79/100\n",
            "1/1 [==============================] - 0s 11ms/step - loss: 3.4618 - mae: 3.4618\n",
            "Epoch 80/100\n",
            "1/1 [==============================] - 0s 12ms/step - loss: 3.4131 - mae: 3.4131\n",
            "Epoch 81/100\n",
            "1/1 [==============================] - 0s 12ms/step - loss: 3.4705 - mae: 3.4705\n",
            "Epoch 82/100\n",
            "1/1 [==============================] - 0s 10ms/step - loss: 3.4348 - mae: 3.4348\n",
            "Epoch 83/100\n",
            "1/1 [==============================] - 0s 11ms/step - loss: 3.4064 - mae: 3.4064\n",
            "Epoch 84/100\n",
            "1/1 [==============================] - 0s 11ms/step - loss: 3.4570 - mae: 3.4570\n",
            "Epoch 85/100\n",
            "1/1 [==============================] - 0s 13ms/step - loss: 3.4052 - mae: 3.4052\n",
            "Epoch 86/100\n",
            "1/1 [==============================] - 0s 12ms/step - loss: 3.4272 - mae: 3.4272\n",
            "Epoch 87/100\n",
            "1/1 [==============================] - 0s 13ms/step - loss: 3.4306 - mae: 3.4306\n",
            "Epoch 88/100\n",
            "1/1 [==============================] - 0s 12ms/step - loss: 3.3748 - mae: 3.3748\n",
            "Epoch 89/100\n",
            "1/1 [==============================] - 0s 13ms/step - loss: 3.4395 - mae: 3.4395\n",
            "Epoch 90/100\n",
            "1/1 [==============================] - 0s 11ms/step - loss: 3.3972 - mae: 3.3972\n",
            "Epoch 91/100\n",
            "1/1 [==============================] - 0s 18ms/step - loss: 3.3823 - mae: 3.3823\n",
            "Epoch 92/100\n",
            "1/1 [==============================] - 0s 12ms/step - loss: 3.4270 - mae: 3.4270\n",
            "Epoch 93/100\n",
            "1/1 [==============================] - 0s 13ms/step - loss: 3.3707 - mae: 3.3707\n",
            "Epoch 94/100\n",
            "1/1 [==============================] - 0s 13ms/step - loss: 3.3946 - mae: 3.3946\n",
            "Epoch 95/100\n",
            "1/1 [==============================] - 0s 10ms/step - loss: 3.3929 - mae: 3.3929\n",
            "Epoch 96/100\n",
            "1/1 [==============================] - 0s 13ms/step - loss: 3.3417 - mae: 3.3417\n",
            "Epoch 97/100\n",
            "1/1 [==============================] - 0s 11ms/step - loss: 3.4138 - mae: 3.4138\n",
            "Epoch 98/100\n",
            "1/1 [==============================] - 0s 10ms/step - loss: 3.3673 - mae: 3.3673\n",
            "Epoch 99/100\n",
            "1/1 [==============================] - 0s 10ms/step - loss: 3.3483 - mae: 3.3483\n",
            "Epoch 100/100\n",
            "1/1 [==============================] - 0s 11ms/step - loss: 3.3898 - mae: 3.3898\n"
          ]
        },
        {
          "output_type": "execute_result",
          "data": {
            "text/plain": [
              "<keras.src.callbacks.History at 0x7a4e51e20040>"
            ]
          },
          "metadata": {},
          "execution_count": 22
        }
      ]
    },
    {
      "cell_type": "code",
      "source": [
        "model.predict([9,10,17.0])"
      ],
      "metadata": {
        "colab": {
          "base_uri": "https://localhost:8080/"
        },
        "id": "Abcr5FwfhZxh",
        "outputId": "421b158c-65c3-48ec-894e-46bf87be4ade"
      },
      "execution_count": 23,
      "outputs": [
        {
          "output_type": "stream",
          "name": "stdout",
          "text": [
            "1/1 [==============================] - 0s 55ms/step\n"
          ]
        },
        {
          "output_type": "execute_result",
          "data": {
            "text/plain": [
              "array([[16.639387],\n",
              "       [18.367262],\n",
              "       [30.462376]], dtype=float32)"
            ]
          },
          "metadata": {},
          "execution_count": 23
        }
      ]
    },
    {
      "cell_type": "code",
      "source": [
        "model = tf.keras.Sequential([\n",
        "    tf.keras.layers.Dense(100,activation=\"relu\"),\n",
        "    tf.keras.layers.Dense(100,activation=\"relu\"),\n",
        "    tf.keras.layers.Dense(1)\n",
        "])\n",
        "model.compile(loss = tf.keras.losses.mae,optimizer = tf.keras.optimizers.Adam(learning_rate=0.01),metrics =[\"mae\"])"
      ],
      "metadata": {
        "id": "OL5iZMehiUGO"
      },
      "execution_count": 37,
      "outputs": []
    },
    {
      "cell_type": "code",
      "source": [
        "model.fit(tf.expand_dims(X_new,axis = -1),y, epochs = 100)"
      ],
      "metadata": {
        "colab": {
          "base_uri": "https://localhost:8080/"
        },
        "id": "kls_ynpEja7D",
        "outputId": "d02bd040-11ab-4307-eef2-b2fdc814c859"
      },
      "execution_count": 38,
      "outputs": [
        {
          "output_type": "stream",
          "name": "stdout",
          "text": [
            "Epoch 1/100\n",
            "1/1 [==============================] - 1s 876ms/step - loss: 13.5958 - mae: 13.5958\n",
            "Epoch 2/100\n",
            "1/1 [==============================] - 0s 12ms/step - loss: 10.7977 - mae: 10.7977\n",
            "Epoch 3/100\n",
            "1/1 [==============================] - 0s 11ms/step - loss: 8.6189 - mae: 8.6189\n",
            "Epoch 4/100\n",
            "1/1 [==============================] - 0s 11ms/step - loss: 6.2149 - mae: 6.2149\n",
            "Epoch 5/100\n",
            "1/1 [==============================] - 0s 14ms/step - loss: 3.6382 - mae: 3.6382\n",
            "Epoch 6/100\n",
            "1/1 [==============================] - 0s 13ms/step - loss: 4.8522 - mae: 4.8522\n",
            "Epoch 7/100\n",
            "1/1 [==============================] - 0s 12ms/step - loss: 6.0120 - mae: 6.0120\n",
            "Epoch 8/100\n",
            "1/1 [==============================] - 0s 12ms/step - loss: 5.9362 - mae: 5.9362\n",
            "Epoch 9/100\n",
            "1/1 [==============================] - 0s 11ms/step - loss: 5.1696 - mae: 5.1696\n",
            "Epoch 10/100\n",
            "1/1 [==============================] - 0s 12ms/step - loss: 4.2842 - mae: 4.2842\n",
            "Epoch 11/100\n",
            "1/1 [==============================] - 0s 23ms/step - loss: 3.5051 - mae: 3.5051\n",
            "Epoch 12/100\n",
            "1/1 [==============================] - 0s 9ms/step - loss: 3.4327 - mae: 3.4327\n",
            "Epoch 13/100\n",
            "1/1 [==============================] - 0s 9ms/step - loss: 4.1973 - mae: 4.1973\n",
            "Epoch 14/100\n",
            "1/1 [==============================] - 0s 16ms/step - loss: 4.4305 - mae: 4.4305\n",
            "Epoch 15/100\n",
            "1/1 [==============================] - 0s 10ms/step - loss: 4.2093 - mae: 4.2093\n",
            "Epoch 16/100\n",
            "1/1 [==============================] - 0s 10ms/step - loss: 3.5851 - mae: 3.5851\n",
            "Epoch 17/100\n",
            "1/1 [==============================] - 0s 11ms/step - loss: 3.0413 - mae: 3.0413\n",
            "Epoch 18/100\n",
            "1/1 [==============================] - 0s 9ms/step - loss: 3.0912 - mae: 3.0912\n",
            "Epoch 19/100\n",
            "1/1 [==============================] - 0s 14ms/step - loss: 3.2593 - mae: 3.2593\n",
            "Epoch 20/100\n",
            "1/1 [==============================] - 0s 11ms/step - loss: 3.3210 - mae: 3.3210\n",
            "Epoch 21/100\n",
            "1/1 [==============================] - 0s 12ms/step - loss: 3.1500 - mae: 3.1500\n",
            "Epoch 22/100\n",
            "1/1 [==============================] - 0s 15ms/step - loss: 2.7895 - mae: 2.7895\n",
            "Epoch 23/100\n",
            "1/1 [==============================] - 0s 11ms/step - loss: 2.4548 - mae: 2.4548\n",
            "Epoch 24/100\n",
            "1/1 [==============================] - 0s 11ms/step - loss: 2.2305 - mae: 2.2305\n",
            "Epoch 25/100\n",
            "1/1 [==============================] - 0s 11ms/step - loss: 2.1713 - mae: 2.1713\n",
            "Epoch 26/100\n",
            "1/1 [==============================] - 0s 10ms/step - loss: 2.2119 - mae: 2.2119\n",
            "Epoch 27/100\n",
            "1/1 [==============================] - 0s 11ms/step - loss: 1.6948 - mae: 1.6948\n",
            "Epoch 28/100\n",
            "1/1 [==============================] - 0s 11ms/step - loss: 1.4532 - mae: 1.4532\n",
            "Epoch 29/100\n",
            "1/1 [==============================] - 0s 12ms/step - loss: 1.3541 - mae: 1.3541\n",
            "Epoch 30/100\n",
            "1/1 [==============================] - 0s 12ms/step - loss: 1.3140 - mae: 1.3140\n",
            "Epoch 31/100\n",
            "1/1 [==============================] - 0s 12ms/step - loss: 0.9314 - mae: 0.9314\n",
            "Epoch 32/100\n",
            "1/1 [==============================] - 0s 11ms/step - loss: 0.6242 - mae: 0.6242\n",
            "Epoch 33/100\n",
            "1/1 [==============================] - 0s 11ms/step - loss: 1.3343 - mae: 1.3343\n",
            "Epoch 34/100\n",
            "1/1 [==============================] - 0s 12ms/step - loss: 1.2765 - mae: 1.2765\n",
            "Epoch 35/100\n",
            "1/1 [==============================] - 0s 11ms/step - loss: 0.5760 - mae: 0.5760\n",
            "Epoch 36/100\n",
            "1/1 [==============================] - 0s 11ms/step - loss: 1.7616 - mae: 1.7616\n",
            "Epoch 37/100\n",
            "1/1 [==============================] - 0s 10ms/step - loss: 1.6017 - mae: 1.6017\n",
            "Epoch 38/100\n",
            "1/1 [==============================] - 0s 11ms/step - loss: 0.4771 - mae: 0.4771\n",
            "Epoch 39/100\n",
            "1/1 [==============================] - 0s 10ms/step - loss: 1.6337 - mae: 1.6337\n",
            "Epoch 40/100\n",
            "1/1 [==============================] - 0s 15ms/step - loss: 2.1654 - mae: 2.1654\n",
            "Epoch 41/100\n",
            "1/1 [==============================] - 0s 11ms/step - loss: 2.2290 - mae: 2.2290\n",
            "Epoch 42/100\n",
            "1/1 [==============================] - 0s 9ms/step - loss: 1.9014 - mae: 1.9014\n",
            "Epoch 43/100\n",
            "1/1 [==============================] - 0s 12ms/step - loss: 1.0527 - mae: 1.0527\n",
            "Epoch 44/100\n",
            "1/1 [==============================] - 0s 13ms/step - loss: 0.5653 - mae: 0.5653\n",
            "Epoch 45/100\n",
            "1/1 [==============================] - 0s 13ms/step - loss: 1.2635 - mae: 1.2635\n",
            "Epoch 46/100\n",
            "1/1 [==============================] - 0s 10ms/step - loss: 1.2033 - mae: 1.2033\n",
            "Epoch 47/100\n",
            "1/1 [==============================] - 0s 10ms/step - loss: 0.6702 - mae: 0.6702\n",
            "Epoch 48/100\n",
            "1/1 [==============================] - 0s 11ms/step - loss: 0.5745 - mae: 0.5745\n",
            "Epoch 49/100\n",
            "1/1 [==============================] - 0s 10ms/step - loss: 0.8978 - mae: 0.8978\n",
            "Epoch 50/100\n",
            "1/1 [==============================] - 0s 11ms/step - loss: 0.6637 - mae: 0.6637\n",
            "Epoch 51/100\n",
            "1/1 [==============================] - 0s 11ms/step - loss: 0.4645 - mae: 0.4645\n",
            "Epoch 52/100\n",
            "1/1 [==============================] - 0s 11ms/step - loss: 0.7949 - mae: 0.7949\n",
            "Epoch 53/100\n",
            "1/1 [==============================] - 0s 10ms/step - loss: 0.8664 - mae: 0.8664\n",
            "Epoch 54/100\n",
            "1/1 [==============================] - 0s 11ms/step - loss: 0.5492 - mae: 0.5492\n",
            "Epoch 55/100\n",
            "1/1 [==============================] - 0s 12ms/step - loss: 0.3092 - mae: 0.3092\n",
            "Epoch 56/100\n",
            "1/1 [==============================] - 0s 12ms/step - loss: 0.8315 - mae: 0.8315\n",
            "Epoch 57/100\n",
            "1/1 [==============================] - 0s 12ms/step - loss: 0.7697 - mae: 0.7697\n",
            "Epoch 58/100\n",
            "1/1 [==============================] - 0s 12ms/step - loss: 0.2734 - mae: 0.2734\n",
            "Epoch 59/100\n",
            "1/1 [==============================] - 0s 12ms/step - loss: 0.9377 - mae: 0.9377\n",
            "Epoch 60/100\n",
            "1/1 [==============================] - 0s 12ms/step - loss: 1.2246 - mae: 1.2246\n",
            "Epoch 61/100\n",
            "1/1 [==============================] - 0s 11ms/step - loss: 0.8451 - mae: 0.8451\n",
            "Epoch 62/100\n",
            "1/1 [==============================] - 0s 11ms/step - loss: 0.1841 - mae: 0.1841\n",
            "Epoch 63/100\n",
            "1/1 [==============================] - 0s 10ms/step - loss: 0.5171 - mae: 0.5171\n",
            "Epoch 64/100\n",
            "1/1 [==============================] - 0s 10ms/step - loss: 0.2417 - mae: 0.2417\n",
            "Epoch 65/100\n",
            "1/1 [==============================] - 0s 10ms/step - loss: 0.6278 - mae: 0.6278\n",
            "Epoch 66/100\n",
            "1/1 [==============================] - 0s 14ms/step - loss: 0.7649 - mae: 0.7649\n",
            "Epoch 67/100\n",
            "1/1 [==============================] - 0s 12ms/step - loss: 0.3127 - mae: 0.3127\n",
            "Epoch 68/100\n",
            "1/1 [==============================] - 0s 11ms/step - loss: 0.6717 - mae: 0.6717\n",
            "Epoch 69/100\n",
            "1/1 [==============================] - 0s 14ms/step - loss: 0.9236 - mae: 0.9236\n",
            "Epoch 70/100\n",
            "1/1 [==============================] - 0s 10ms/step - loss: 0.6110 - mae: 0.6110\n",
            "Epoch 71/100\n",
            "1/1 [==============================] - 0s 10ms/step - loss: 0.2971 - mae: 0.2971\n",
            "Epoch 72/100\n",
            "1/1 [==============================] - 0s 12ms/step - loss: 0.5331 - mae: 0.5331\n",
            "Epoch 73/100\n",
            "1/1 [==============================] - 0s 12ms/step - loss: 0.3515 - mae: 0.3515\n",
            "Epoch 74/100\n",
            "1/1 [==============================] - 0s 11ms/step - loss: 0.3529 - mae: 0.3529\n",
            "Epoch 75/100\n",
            "1/1 [==============================] - 0s 10ms/step - loss: 0.3880 - mae: 0.3880\n",
            "Epoch 76/100\n",
            "1/1 [==============================] - 0s 9ms/step - loss: 0.2001 - mae: 0.2001\n",
            "Epoch 77/100\n",
            "1/1 [==============================] - 0s 12ms/step - loss: 0.2373 - mae: 0.2373\n",
            "Epoch 78/100\n",
            "1/1 [==============================] - 0s 9ms/step - loss: 0.2759 - mae: 0.2759\n",
            "Epoch 79/100\n",
            "1/1 [==============================] - 0s 9ms/step - loss: 0.2158 - mae: 0.2158\n",
            "Epoch 80/100\n",
            "1/1 [==============================] - 0s 10ms/step - loss: 0.4524 - mae: 0.4524\n",
            "Epoch 81/100\n",
            "1/1 [==============================] - 0s 11ms/step - loss: 0.3854 - mae: 0.3854\n",
            "Epoch 82/100\n",
            "1/1 [==============================] - 0s 12ms/step - loss: 0.1796 - mae: 0.1796\n",
            "Epoch 83/100\n",
            "1/1 [==============================] - 0s 11ms/step - loss: 0.1594 - mae: 0.1594\n",
            "Epoch 84/100\n",
            "1/1 [==============================] - 0s 11ms/step - loss: 0.3900 - mae: 0.3900\n",
            "Epoch 85/100\n",
            "1/1 [==============================] - 0s 15ms/step - loss: 0.3981 - mae: 0.3981\n",
            "Epoch 86/100\n",
            "1/1 [==============================] - 0s 14ms/step - loss: 0.2129 - mae: 0.2129\n",
            "Epoch 87/100\n",
            "1/1 [==============================] - 0s 11ms/step - loss: 0.1182 - mae: 0.1182\n",
            "Epoch 88/100\n",
            "1/1 [==============================] - 0s 13ms/step - loss: 0.1468 - mae: 0.1468\n",
            "Epoch 89/100\n",
            "1/1 [==============================] - 0s 13ms/step - loss: 0.2019 - mae: 0.2019\n",
            "Epoch 90/100\n",
            "1/1 [==============================] - 0s 12ms/step - loss: 0.2103 - mae: 0.2103\n",
            "Epoch 91/100\n",
            "1/1 [==============================] - 0s 11ms/step - loss: 0.1211 - mae: 0.1211\n",
            "Epoch 92/100\n",
            "1/1 [==============================] - 0s 12ms/step - loss: 0.2382 - mae: 0.2382\n",
            "Epoch 93/100\n",
            "1/1 [==============================] - 0s 10ms/step - loss: 0.1031 - mae: 0.1031\n",
            "Epoch 94/100\n",
            "1/1 [==============================] - 0s 11ms/step - loss: 0.3215 - mae: 0.3215\n",
            "Epoch 95/100\n",
            "1/1 [==============================] - 0s 13ms/step - loss: 0.1811 - mae: 0.1811\n",
            "Epoch 96/100\n",
            "1/1 [==============================] - 0s 11ms/step - loss: 0.4713 - mae: 0.4713\n",
            "Epoch 97/100\n",
            "1/1 [==============================] - 0s 11ms/step - loss: 0.4639 - mae: 0.4639\n",
            "Epoch 98/100\n",
            "1/1 [==============================] - 0s 10ms/step - loss: 0.1378 - mae: 0.1378\n",
            "Epoch 99/100\n",
            "1/1 [==============================] - 0s 9ms/step - loss: 0.5654 - mae: 0.5654\n",
            "Epoch 100/100\n",
            "1/1 [==============================] - 0s 10ms/step - loss: 0.5148 - mae: 0.5148\n"
          ]
        },
        {
          "output_type": "execute_result",
          "data": {
            "text/plain": [
              "<keras.src.callbacks.History at 0x7a4e515f7c10>"
            ]
          },
          "metadata": {},
          "execution_count": 38
        }
      ]
    },
    {
      "cell_type": "code",
      "source": [
        "X_new,y"
      ],
      "metadata": {
        "colab": {
          "base_uri": "https://localhost:8080/"
        },
        "id": "N2RgcdGWkR1s",
        "outputId": "fdc316d0-90a6-4857-b98e-91cfea5ccdd0"
      },
      "execution_count": 39,
      "outputs": [
        {
          "output_type": "execute_result",
          "data": {
            "text/plain": [
              "(<tf.Tensor: shape=(8,), dtype=float32, numpy=\n",
              " array([-6.5778203 , -3.6245797 , -0.15259737,  2.4401197 ,  5.7261353 ,\n",
              "         8.549928  , 11.6430855 , 14.120981  ], dtype=float32)>,\n",
              " <tf.Tensor: shape=(8,), dtype=float32, numpy=array([ 3.,  6.,  9., 12., 15., 18., 21., 24.], dtype=float32)>)"
            ]
          },
          "metadata": {},
          "execution_count": 39
        }
      ]
    },
    {
      "cell_type": "code",
      "source": [
        "model.predict([0,1,2,3,2.4401197])"
      ],
      "metadata": {
        "colab": {
          "base_uri": "https://localhost:8080/"
        },
        "id": "yvqaSpCnjdaP",
        "outputId": "d8bdc564-a8be-4568-de37-9da38330cbad"
      },
      "execution_count": 40,
      "outputs": [
        {
          "output_type": "stream",
          "name": "stdout",
          "text": [
            "1/1 [==============================] - 0s 59ms/step\n"
          ]
        },
        {
          "output_type": "execute_result",
          "data": {
            "text/plain": [
              "array([[ 9.337772 ],\n",
              "       [10.3703375],\n",
              "       [11.40209  ],\n",
              "       [12.392346 ],\n",
              "       [11.845664 ]], dtype=float32)"
            ]
          },
          "metadata": {},
          "execution_count": 40
        }
      ]
    },
    {
      "cell_type": "code",
      "source": [
        "model.predict([-10])"
      ],
      "metadata": {
        "colab": {
          "base_uri": "https://localhost:8080/"
        },
        "id": "HdtvjUrVkINc",
        "outputId": "04d79f62-9f94-461b-f05a-643987123b88"
      },
      "execution_count": 41,
      "outputs": [
        {
          "output_type": "stream",
          "name": "stdout",
          "text": [
            "1/1 [==============================] - 0s 62ms/step\n"
          ]
        },
        {
          "output_type": "execute_result",
          "data": {
            "text/plain": [
              "array([[0.54464984]], dtype=float32)"
            ]
          },
          "metadata": {},
          "execution_count": 41
        }
      ]
    },
    {
      "cell_type": "code",
      "source": [
        "X = tf.range(-100,100,2)\n",
        "X = tf.cast(X,dtype=tf.float32)"
      ],
      "metadata": {
        "id": "Rx9yZVgbktwM"
      },
      "execution_count": 64,
      "outputs": []
    },
    {
      "cell_type": "code",
      "source": [
        "noise = tf.random.normal(shape=(100,), mean=0, stddev=1)\n",
        "y = X + 9 + noise"
      ],
      "metadata": {
        "id": "vaQRNy8HoxT_"
      },
      "execution_count": 66,
      "outputs": []
    },
    {
      "cell_type": "code",
      "source": [
        "X"
      ],
      "metadata": {
        "colab": {
          "base_uri": "https://localhost:8080/"
        },
        "id": "X6Kck-jyoxV1",
        "outputId": "8931395a-b9e9-47bd-caae-a4f48c2cbe10"
      },
      "execution_count": 65,
      "outputs": [
        {
          "output_type": "execute_result",
          "data": {
            "text/plain": [
              "<tf.Tensor: shape=(100,), dtype=float32, numpy=\n",
              "array([-100.,  -98.,  -96.,  -94.,  -92.,  -90.,  -88.,  -86.,  -84.,\n",
              "        -82.,  -80.,  -78.,  -76.,  -74.,  -72.,  -70.,  -68.,  -66.,\n",
              "        -64.,  -62.,  -60.,  -58.,  -56.,  -54.,  -52.,  -50.,  -48.,\n",
              "        -46.,  -44.,  -42.,  -40.,  -38.,  -36.,  -34.,  -32.,  -30.,\n",
              "        -28.,  -26.,  -24.,  -22.,  -20.,  -18.,  -16.,  -14.,  -12.,\n",
              "        -10.,   -8.,   -6.,   -4.,   -2.,    0.,    2.,    4.,    6.,\n",
              "          8.,   10.,   12.,   14.,   16.,   18.,   20.,   22.,   24.,\n",
              "         26.,   28.,   30.,   32.,   34.,   36.,   38.,   40.,   42.,\n",
              "         44.,   46.,   48.,   50.,   52.,   54.,   56.,   58.,   60.,\n",
              "         62.,   64.,   66.,   68.,   70.,   72.,   74.,   76.,   78.,\n",
              "         80.,   82.,   84.,   86.,   88.,   90.,   92.,   94.,   96.,\n",
              "         98.], dtype=float32)>"
            ]
          },
          "metadata": {},
          "execution_count": 65
        }
      ]
    },
    {
      "cell_type": "code",
      "source": [
        "y"
      ],
      "metadata": {
        "colab": {
          "base_uri": "https://localhost:8080/"
        },
        "id": "NUtIqHJEoxX6",
        "outputId": "890b3116-cda8-4386-b4ff-4d399d0bd58f"
      },
      "execution_count": 67,
      "outputs": [
        {
          "output_type": "execute_result",
          "data": {
            "text/plain": [
              "<tf.Tensor: shape=(100,), dtype=float32, numpy=\n",
              "array([-90.23581  , -88.00935  , -85.36043  , -84.835976 , -83.179276 ,\n",
              "       -81.50147  , -79.588196 , -75.41236  , -74.91043  , -74.28738  ,\n",
              "       -70.94923  , -69.08458  , -65.75016  , -65.20557  , -62.394386 ,\n",
              "       -60.938663 , -58.822132 , -57.06889  , -53.269073 , -52.8614   ,\n",
              "       -50.115406 , -48.50368  , -49.23394  , -43.571533 , -42.396454 ,\n",
              "       -40.877842 , -39.946297 , -36.42985  , -33.71517  , -32.026794 ,\n",
              "       -30.397293 , -29.0021   , -27.590805 , -24.192188 , -22.665041 ,\n",
              "       -20.9821   , -20.010471 , -16.683088 , -14.806343 , -13.256163 ,\n",
              "       -13.492591 ,  -9.914706 ,  -7.590833 ,  -4.032826 ,  -2.24776  ,\n",
              "         1.2095156,   0.5215801,   2.7765243,   4.814132 ,   7.4197426,\n",
              "         8.344273 ,  11.113377 ,  11.535876 ,  14.499628 ,  16.855347 ,\n",
              "        18.42167  ,  20.061447 ,  20.50751  ,  25.64001  ,  28.982075 ,\n",
              "        27.66283  ,  30.85245  ,  33.55681  ,  36.81597  ,  36.453625 ,\n",
              "        37.487053 ,  41.13282  ,  44.494213 ,  45.75655  ,  46.126045 ,\n",
              "        50.26946  ,  52.01568  ,  51.97613  ,  54.875114 ,  57.462864 ,\n",
              "        59.157223 ,  61.026825 ,  62.15955  ,  65.539986 ,  66.28779  ,\n",
              "        70.30587  ,  70.686226 ,  72.77916  ,  74.20479  ,  77.48792  ,\n",
              "        78.45239  ,  81.68333  ,  83.667725 ,  83.546936 ,  88.833244 ,\n",
              "        87.031044 ,  90.758606 ,  92.71746  ,  95.13308  ,  97.884964 ,\n",
              "        98.68184  , 101.61823  , 102.61558  , 104.43623  , 106.432556 ],\n",
              "      dtype=float32)>"
            ]
          },
          "metadata": {},
          "execution_count": 67
        }
      ]
    },
    {
      "cell_type": "code",
      "source": [
        "import matplotlib.pyplot as plt"
      ],
      "metadata": {
        "id": "XMuvEd7QoxZv"
      },
      "execution_count": 62,
      "outputs": []
    },
    {
      "cell_type": "code",
      "source": [
        "plt.scatter(X,y)"
      ],
      "metadata": {
        "colab": {
          "base_uri": "https://localhost:8080/",
          "height": 448
        },
        "id": "YIWoNtzBoxb1",
        "outputId": "9bd0fa38-7a68-4599-d114-05d4f8a49c89"
      },
      "execution_count": 68,
      "outputs": [
        {
          "output_type": "execute_result",
          "data": {
            "text/plain": [
              "<matplotlib.collections.PathCollection at 0x7a4e54daacb0>"
            ]
          },
          "metadata": {},
          "execution_count": 68
        },
        {
          "output_type": "display_data",
          "data": {
            "text/plain": [
              "<Figure size 640x480 with 1 Axes>"
            ],
            "image/png": "[encoded data removed]"
          },
          "metadata": {}
        }
      ]
    },
    {
      "cell_type": "code",
      "source": [],
      "metadata": {
        "id": "LerqIdZ_rylZ"
      },
      "execution_count": null,
      "outputs": []
    }
  ]
}