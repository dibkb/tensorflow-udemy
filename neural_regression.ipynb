{
  "nbformat": 4,
  "nbformat_minor": 0,
  "metadata": {
    "colab": {
      "provenance": [],
      "gpuType": "T4",
      "authorship_tag": "ABX9TyM+eWOX6bNtHF2UhbjB9TUD",
      "include_colab_link": true
    },
    "kernelspec": {
      "name": "python3",
      "display_name": "Python 3"
    },
    "language_info": {
      "name": "python"
    },
    "accelerator": "GPU"
  },
  "cells": [
    {
      "cell_type": "markdown",
      "metadata": {
        "id": "view-in-github",
        "colab_type": "text"
      },
      "source": [
        "<a href=\"https://colab.research.google.com/github/dibkb/tensorflow-udemy/blob/main/neural_regression.ipynb\" target=\"_parent\"><img src=\"https://colab.research.google.com/assets/colab-badge.svg\" alt=\"Open In Colab\"/></a>"
      ]
    },
    {
      "cell_type": "code",
      "execution_count": 2,
      "metadata": {
        "id": "X-nKIRVm9SKY"
      },
      "outputs": [],
      "source": [
        "import tensorflow as tf\n",
        "import matplotlib as plt\n",
        "import numpy as np"
      ]
    },
    {
      "cell_type": "markdown",
      "source": [
        "# Introduction to Neural Networks Regression"
      ],
      "metadata": {
        "id": "MSLvLHRN9WgN"
      }
    },
    {
      "cell_type": "code",
      "source": [
        "# Create features (using tensors)\n",
        "X = tf.constant([-7.0, -4.0, -1.0, 2.0, 5.0, 8.0, 11.0, 14.0])\n",
        "\n",
        "# Create labels (using tensors)\n",
        "y = tf.constant([3.0, 6.0, 9.0, 12.0, 15.0, 18.0, 21.0, 24.0])"
      ],
      "metadata": {
        "id": "UGAHFZhs9wNK"
      },
      "execution_count": 3,
      "outputs": []
    },
    {
      "cell_type": "code",
      "source": [
        "X_new = tf.squeeze(X+ np.random.rand(1, 8))"
      ],
      "metadata": {
        "id": "wEr54XySCJaI"
      },
      "execution_count": 16,
      "outputs": []
    },
    {
      "cell_type": "code",
      "source": [
        "plt.pyplot.scatter(X,y)\n",
        "plt.pyplot.scatter(X_new,y)"
      ],
      "metadata": {
        "colab": {
          "base_uri": "https://localhost:8080/",
          "height": 453
        },
        "id": "FPmnNOIf-O6K",
        "outputId": "51b96185-d0f1-4ff2-d89b-382e642b95a4"
      },
      "execution_count": 5,
      "outputs": [
        {
          "output_type": "execute_result",
          "data": {
            "text/plain": [
              "<matplotlib.collections.PathCollection at 0x78371100afb0>"
            ]
          },
          "metadata": {},
          "execution_count": 5
        },
        {
          "output_type": "display_data",
          "data": {
            "text/plain": [
              "<Figure size 640x480 with 1 Axes>"
            ],
            "image/png": "[encoded data removed]"
          },
          "metadata": {}
        }
      ]
    },
    {
      "cell_type": "markdown",
      "source": [
        " Writing Neural network"
      ],
      "metadata": {
        "id": "jRwPeNpN-WLu"
      }
    },
    {
      "cell_type": "code",
      "source": [
        "# Set random seed\n",
        "tf.random.set_seed(42)\n",
        "# Create a model using the Sequential API\n",
        "model = tf.keras.Sequential([\n",
        "  tf.keras.layers.Dense(1)\n",
        "])\n",
        "# Compile the model\n",
        "model.compile(loss=tf.keras.losses.mae, # mae is short for mean absolute error\n",
        "              optimizer=tf.keras.optimizers.SGD(), # SGD is short for stochastic gradient descent\n",
        "              metrics=[\"mae\"])\n",
        "\n",
        "# Fit the model\n",
        "# model.fit(X, y, epochs=5) # this will break with TensorFlow 2.7.0+\n",
        "model.fit(tf.expand_dims(X, axis=-1), y, epochs=5)"
      ],
      "metadata": {
        "colab": {
          "base_uri": "https://localhost:8080/"
        },
        "id": "NntM9ieZ-k7R",
        "outputId": "662505e1-dd5f-412a-aed1-c6833c1de8bf"
      },
      "execution_count": 6,
      "outputs": [
        {
          "output_type": "stream",
          "name": "stdout",
          "text": [
            "Epoch 1/5\n",
            "1/1 [==============================] - 4s 4s/step - loss: 10.0271 - mae: 10.0271\n",
            "Epoch 2/5\n",
            "1/1 [==============================] - 0s 11ms/step - loss: 9.8946 - mae: 9.8946\n",
            "Epoch 3/5\n",
            "1/1 [==============================] - 0s 10ms/step - loss: 9.7621 - mae: 9.7621\n",
            "Epoch 4/5\n",
            "1/1 [==============================] - 0s 9ms/step - loss: 9.6296 - mae: 9.6296\n",
            "Epoch 5/5\n",
            "1/1 [==============================] - 0s 10ms/step - loss: 9.4971 - mae: 9.4971\n"
          ]
        },
        {
          "output_type": "execute_result",
          "data": {
            "text/plain": [
              "<keras.src.callbacks.History at 0x7837008bb8e0>"
            ]
          },
          "metadata": {},
          "execution_count": 6
        }
      ]
    },
    {
      "cell_type": "code",
      "source": [
        "tf.random.set_seed(9)\n",
        "model = tf.keras.Sequential([\n",
        "    tf.keras.layers.Dense(1)\n",
        "])\n",
        "model.compile(loss = tf.keras.losses.mae,\n",
        "              optimizer = tf.keras.optimizers.SGD(),\n",
        "              metrics = [\"mae\"])"
      ],
      "metadata": {
        "id": "RmmdAd9vHJyZ"
      },
      "execution_count": 7,
      "outputs": []
    },
    {
      "cell_type": "code",
      "source": [
        "model.fit(tf.expand_dims(X,axis = -1),y, epochs = 5)"
      ],
      "metadata": {
        "colab": {
          "base_uri": "https://localhost:8080/"
        },
        "id": "GqTz0TQzHJ0p",
        "outputId": "058cef33-aee6-4a0a-f002-3ee03ad28545"
      },
      "execution_count": 10,
      "outputs": [
        {
          "output_type": "stream",
          "name": "stdout",
          "text": [
            "Epoch 1/5\n",
            "1/1 [==============================] - 0s 12ms/step - loss: 6.8306 - mae: 6.8306\n",
            "Epoch 2/5\n",
            "1/1 [==============================] - 0s 10ms/step - loss: 6.8250 - mae: 6.8250\n",
            "Epoch 3/5\n",
            "1/1 [==============================] - 0s 9ms/step - loss: 6.8194 - mae: 6.8194\n",
            "Epoch 4/5\n",
            "1/1 [==============================] - 0s 9ms/step - loss: 6.8138 - mae: 6.8138\n",
            "Epoch 5/5\n",
            "1/1 [==============================] - 0s 9ms/step - loss: 6.8081 - mae: 6.8081\n"
          ]
        },
        {
          "output_type": "execute_result",
          "data": {
            "text/plain": [
              "<keras.src.callbacks.History at 0x7837004e58a0>"
            ]
          },
          "metadata": {},
          "execution_count": 10
        }
      ]
    },
    {
      "cell_type": "code",
      "source": [
        "model.fit(tf.expand_dims(X_new,axis = -1),y, epochs = 5)"
      ],
      "metadata": {
        "colab": {
          "base_uri": "https://localhost:8080/"
        },
        "id": "LFuQmjdVHJ2v",
        "outputId": "db29398e-ef53-4a84-b5a6-a5c552d6a9db"
      },
      "execution_count": 17,
      "outputs": [
        {
          "output_type": "stream",
          "name": "stdout",
          "text": [
            "Epoch 1/5\n",
            "1/1 [==============================] - 0s 11ms/step - loss: 5.9900 - mae: 5.9900\n",
            "Epoch 2/5\n",
            "1/1 [==============================] - 0s 10ms/step - loss: 5.9820 - mae: 5.9820\n",
            "Epoch 3/5\n",
            "1/1 [==============================] - 0s 11ms/step - loss: 5.9740 - mae: 5.9740\n",
            "Epoch 4/5\n",
            "1/1 [==============================] - 0s 10ms/step - loss: 5.9661 - mae: 5.9661\n",
            "Epoch 5/5\n",
            "1/1 [==============================] - 0s 10ms/step - loss: 5.9581 - mae: 5.9581\n"
          ]
        },
        {
          "output_type": "execute_result",
          "data": {
            "text/plain": [
              "<keras.src.callbacks.History at 0x7836894c1090>"
            ]
          },
          "metadata": {},
          "execution_count": 17
        }
      ]
    },
    {
      "cell_type": "code",
      "source": [
        "model.predict([9,10])"
      ],
      "metadata": {
        "colab": {
          "base_uri": "https://localhost:8080/"
        },
        "id": "eYk8zpRPHJ41",
        "outputId": "e4f4fe57-9c8c-4022-f278-985a12f6d2be"
      },
      "execution_count": 19,
      "outputs": [
        {
          "output_type": "stream",
          "name": "stdout",
          "text": [
            "1/1 [==============================] - 0s 32ms/step\n"
          ]
        },
        {
          "output_type": "execute_result",
          "data": {
            "text/plain": [
              "array([[16.268654],\n",
              "       [17.96878 ]], dtype=float32)"
            ]
          },
          "metadata": {},
          "execution_count": 19
        }
      ]
    },
    {
      "cell_type": "code",
      "source": [],
      "metadata": {
        "id": "uPJkiVYPJGLq"
      },
      "execution_count": null,
      "outputs": []
    }
  ]
}