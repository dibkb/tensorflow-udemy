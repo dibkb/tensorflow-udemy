{
  "nbformat": 4,
  "nbformat_minor": 0,
  "metadata": {
    "colab": {
      "provenance": [],
      "gpuType": "T4",
      "authorship_tag": "ABX9TyNl5ijxX0XKiW/MfWDHIcan",
      "include_colab_link": true
    },
    "kernelspec": {
      "name": "python3",
      "display_name": "Python 3"
    },
    "language_info": {
      "name": "python"
    },
    "accelerator": "GPU"
  },
  "cells": [
    {
      "cell_type": "markdown",
      "metadata": {
        "id": "view-in-github",
        "colab_type": "text"
      },
      "source": [
        "<a href=\"https://colab.research.google.com/github/dibkb/tensorflow-udemy/blob/main/neural_regression.ipynb\" target=\"_parent\"><img src=\"https://colab.research.google.com/assets/colab-badge.svg\" alt=\"Open In Colab\"/></a>"
      ]
    },
    {
      "cell_type": "code",
      "execution_count": 1,
      "metadata": {
        "id": "X-nKIRVm9SKY"
      },
      "outputs": [],
      "source": [
        "import tensorflow as tf\n",
        "import matplotlib as plt\n",
        "import numpy as np"
      ]
    },
    {
      "cell_type": "markdown",
      "source": [
        "# Introduction to Neural Networks Regression"
      ],
      "metadata": {
        "id": "MSLvLHRN9WgN"
      }
    },
    {
      "cell_type": "code",
      "source": [
        "# Create features (using tensors)\n",
        "X = tf.constant([-7.0, -4.0, -1.0, 2.0, 5.0, 8.0, 11.0, 14.0])\n",
        "\n",
        "# Create labels (using tensors)\n",
        "y = tf.constant([3.0, 6.0, 9.0, 12.0, 15.0, 18.0, 21.0, 24.0])"
      ],
      "metadata": {
        "id": "UGAHFZhs9wNK"
      },
      "execution_count": 2,
      "outputs": []
    },
    {
      "cell_type": "code",
      "source": [
        "X_new = tf.squeeze(X+ np.random.rand(1, 8))"
      ],
      "metadata": {
        "id": "wEr54XySCJaI"
      },
      "execution_count": 3,
      "outputs": []
    },
    {
      "cell_type": "code",
      "source": [
        "plt.pyplot.scatter(X,y)\n",
        "plt.pyplot.scatter(X_new,y)"
      ],
      "metadata": {
        "colab": {
          "base_uri": "https://localhost:8080/",
          "height": 453
        },
        "id": "FPmnNOIf-O6K",
        "outputId": "fde63da9-0799-498a-c992-e7dd85e601ad"
      },
      "execution_count": 4,
      "outputs": [
        {
          "output_type": "execute_result",
          "data": {
            "text/plain": [
              "<matplotlib.collections.PathCollection at 0x7f5aa015a8f0>"
            ]
          },
          "metadata": {},
          "execution_count": 4
        },
        {
          "output_type": "display_data",
          "data": {
            "text/plain": [
              "<Figure size 640x480 with 1 Axes>"
            ],
            "image/png": "[encoded data removed]"
          },
          "metadata": {}
        }
      ]
    },
    {
      "cell_type": "markdown",
      "source": [
        " Writing Neural network"
      ],
      "metadata": {
        "id": "jRwPeNpN-WLu"
      }
    },
    {
      "cell_type": "code",
      "source": [
        "# Set random seed\n",
        "tf.random.set_seed(42)\n",
        "# Create a model using the Sequential API\n",
        "model = tf.keras.Sequential([\n",
        "  tf.keras.layers.Dense(1)\n",
        "])\n",
        "# Compile the model\n",
        "model.compile(loss=tf.keras.losses.mae, # mae is short for mean absolute error\n",
        "              optimizer=tf.keras.optimizers.SGD(), # SGD is short for stochastic gradient descent\n",
        "              metrics=[\"mae\"])\n",
        "\n",
        "# Fit the model\n",
        "# model.fit(X, y, epochs=5) # this will break with TensorFlow 2.7.0+\n",
        "model.fit(tf.expand_dims(X, axis=-1), y, epochs=5)"
      ],
      "metadata": {
        "colab": {
          "base_uri": "https://localhost:8080/"
        },
        "id": "NntM9ieZ-k7R",
        "outputId": "60dff2f5-5cb6-43fc-b2c3-17141c9c02bc"
      },
      "execution_count": 5,
      "outputs": [
        {
          "output_type": "stream",
          "name": "stdout",
          "text": [
            "Epoch 1/5\n",
            "1/1 [==============================] - 4s 4s/step - loss: 9.0407 - mae: 9.0407\n",
            "Epoch 2/5\n",
            "1/1 [==============================] - 0s 11ms/step - loss: 8.9082 - mae: 8.9082\n",
            "Epoch 3/5\n",
            "1/1 [==============================] - 0s 9ms/step - loss: 8.7757 - mae: 8.7757\n",
            "Epoch 4/5\n",
            "1/1 [==============================] - 0s 10ms/step - loss: 8.6432 - mae: 8.6432\n",
            "Epoch 5/5\n",
            "1/1 [==============================] - 0s 14ms/step - loss: 8.5107 - mae: 8.5107\n"
          ]
        },
        {
          "output_type": "execute_result",
          "data": {
            "text/plain": [
              "<keras.src.callbacks.History at 0x7f5a65bca230>"
            ]
          },
          "metadata": {},
          "execution_count": 5
        }
      ]
    },
    {
      "cell_type": "code",
      "source": [
        "tf.random.set_seed(9)\n",
        "model = tf.keras.Sequential([\n",
        "    tf.keras.layers.Dense(1)\n",
        "])\n",
        "model.compile(loss = tf.keras.losses.mae,\n",
        "              optimizer = tf.keras.optimizers.SGD(),\n",
        "              metrics = [\"mae\"])"
      ],
      "metadata": {
        "id": "RmmdAd9vHJyZ"
      },
      "execution_count": 6,
      "outputs": []
    },
    {
      "cell_type": "code",
      "source": [
        "model.fit(tf.expand_dims(X,axis = -1),y, epochs = 5)"
      ],
      "metadata": {
        "colab": {
          "base_uri": "https://localhost:8080/"
        },
        "id": "GqTz0TQzHJ0p",
        "outputId": "6b9e7db0-0791-4af5-8525-1c751a2385ac"
      },
      "execution_count": 7,
      "outputs": [
        {
          "output_type": "stream",
          "name": "stdout",
          "text": [
            "Epoch 1/5\n",
            "1/1 [==============================] - 0s 316ms/step - loss: 17.3633 - mae: 17.3633\n",
            "Epoch 2/5\n",
            "1/1 [==============================] - 0s 11ms/step - loss: 17.0820 - mae: 17.0820\n",
            "Epoch 3/5\n",
            "1/1 [==============================] - 0s 10ms/step - loss: 16.8008 - mae: 16.8008\n",
            "Epoch 4/5\n",
            "1/1 [==============================] - 0s 11ms/step - loss: 16.5195 - mae: 16.5195\n",
            "Epoch 5/5\n",
            "1/1 [==============================] - 0s 11ms/step - loss: 16.2383 - mae: 16.2383\n"
          ]
        },
        {
          "output_type": "execute_result",
          "data": {
            "text/plain": [
              "<keras.src.callbacks.History at 0x7f5a3ef341f0>"
            ]
          },
          "metadata": {},
          "execution_count": 7
        }
      ]
    },
    {
      "cell_type": "code",
      "source": [
        "model.fit(tf.expand_dims(X_new,axis = -1),y, epochs = 5)"
      ],
      "metadata": {
        "colab": {
          "base_uri": "https://localhost:8080/"
        },
        "id": "LFuQmjdVHJ2v",
        "outputId": "6ec90082-d070-49ac-a59d-04cd9727a829"
      },
      "execution_count": 8,
      "outputs": [
        {
          "output_type": "stream",
          "name": "stdout",
          "text": [
            "Epoch 1/5\n",
            "1/1 [==============================] - 0s 11ms/step - loss: 16.2192 - mae: 16.2192\n",
            "Epoch 2/5\n",
            "1/1 [==============================] - 0s 10ms/step - loss: 15.8914 - mae: 15.8914\n",
            "Epoch 3/5\n",
            "1/1 [==============================] - 0s 11ms/step - loss: 15.5637 - mae: 15.5637\n",
            "Epoch 4/5\n",
            "1/1 [==============================] - 0s 10ms/step - loss: 15.2654 - mae: 15.2654\n",
            "Epoch 5/5\n",
            "1/1 [==============================] - 0s 8ms/step - loss: 15.0879 - mae: 15.0879\n"
          ]
        },
        {
          "output_type": "execute_result",
          "data": {
            "text/plain": [
              "<keras.src.callbacks.History at 0x7f5a3efc1f90>"
            ]
          },
          "metadata": {},
          "execution_count": 8
        }
      ]
    },
    {
      "cell_type": "code",
      "source": [
        "model.predict([9,10])"
      ],
      "metadata": {
        "colab": {
          "base_uri": "https://localhost:8080/"
        },
        "id": "eYk8zpRPHJ41",
        "outputId": "e723b91b-dfee-436f-a853-dfe5cc435dd6"
      },
      "execution_count": 9,
      "outputs": [
        {
          "output_type": "stream",
          "name": "stdout",
          "text": [
            "1/1 [==============================] - 0s 75ms/step\n"
          ]
        },
        {
          "output_type": "execute_result",
          "data": {
            "text/plain": [
              "array([[-3.196882 ],\n",
              "       [-3.5609798]], dtype=float32)"
            ]
          },
          "metadata": {},
          "execution_count": 9
        }
      ]
    },
    {
      "cell_type": "markdown",
      "source": [
        "Increase the no of epochs"
      ],
      "metadata": {
        "id": "uPJkiVYPJGLq"
      }
    },
    {
      "cell_type": "code",
      "source": [
        "model = tf.keras.Sequential([\n",
        "    tf.keras.layers.Dense(100,activation=\"relu\"),\n",
        "    tf.keras.layers.Dense(1)\n",
        "])\n",
        "model.compile(loss = tf.keras.losses.mae,optimizer = tf.keras.optimizers.SGD(),metrics =[\"mae\"])"
      ],
      "metadata": {
        "id": "DZ5x7-yHfxbC"
      },
      "execution_count": 10,
      "outputs": []
    },
    {
      "cell_type": "code",
      "source": [
        "model.fit(tf.expand_dims(X_new,axis = -1),y, epochs = 100)"
      ],
      "metadata": {
        "colab": {
          "base_uri": "https://localhost:8080/"
        },
        "id": "BVM1io1vg7lR",
        "outputId": "83e0ff85-8d90-44e7-d5ac-160360cad1a5"
      },
      "execution_count": 11,
      "outputs": [
        {
          "output_type": "stream",
          "name": "stdout",
          "text": [
            "Epoch 1/100\n",
            "1/1 [==============================] - 1s 556ms/step - loss: 12.9097 - mae: 12.9097\n",
            "Epoch 2/100\n",
            "1/1 [==============================] - 0s 11ms/step - loss: 12.3678 - mae: 12.3678\n",
            "Epoch 3/100\n",
            "1/1 [==============================] - 0s 11ms/step - loss: 11.8250 - mae: 11.8250\n",
            "Epoch 4/100\n",
            "1/1 [==============================] - 0s 10ms/step - loss: 11.3002 - mae: 11.3002\n",
            "Epoch 5/100\n",
            "1/1 [==============================] - 0s 11ms/step - loss: 10.7578 - mae: 10.7578\n",
            "Epoch 6/100\n",
            "1/1 [==============================] - 0s 10ms/step - loss: 10.1910 - mae: 10.1910\n",
            "Epoch 7/100\n",
            "1/1 [==============================] - 0s 11ms/step - loss: 9.5911 - mae: 9.5911\n",
            "Epoch 8/100\n",
            "1/1 [==============================] - 0s 10ms/step - loss: 8.9538 - mae: 8.9538\n",
            "Epoch 9/100\n",
            "1/1 [==============================] - 0s 10ms/step - loss: 8.2722 - mae: 8.2722\n",
            "Epoch 10/100\n",
            "1/1 [==============================] - 0s 11ms/step - loss: 7.5395 - mae: 7.5395\n",
            "Epoch 11/100\n",
            "1/1 [==============================] - 0s 11ms/step - loss: 6.7481 - mae: 6.7481\n",
            "Epoch 12/100\n",
            "1/1 [==============================] - 0s 10ms/step - loss: 5.8908 - mae: 5.8908\n",
            "Epoch 13/100\n",
            "1/1 [==============================] - 0s 11ms/step - loss: 4.9582 - mae: 4.9582\n",
            "Epoch 14/100\n",
            "1/1 [==============================] - 0s 13ms/step - loss: 3.9397 - mae: 3.9397\n",
            "Epoch 15/100\n",
            "1/1 [==============================] - 0s 10ms/step - loss: 3.6863 - mae: 3.6863\n",
            "Epoch 16/100\n",
            "1/1 [==============================] - 0s 10ms/step - loss: 3.6161 - mae: 3.6161\n",
            "Epoch 17/100\n",
            "1/1 [==============================] - 0s 10ms/step - loss: 3.6463 - mae: 3.6463\n",
            "Epoch 18/100\n",
            "1/1 [==============================] - 0s 10ms/step - loss: 3.6442 - mae: 3.6442\n",
            "Epoch 19/100\n",
            "1/1 [==============================] - 0s 10ms/step - loss: 3.5983 - mae: 3.5983\n",
            "Epoch 20/100\n",
            "1/1 [==============================] - 0s 11ms/step - loss: 3.6672 - mae: 3.6672\n",
            "Epoch 21/100\n",
            "1/1 [==============================] - 0s 11ms/step - loss: 3.6149 - mae: 3.6149\n",
            "Epoch 22/100\n",
            "1/1 [==============================] - 0s 10ms/step - loss: 3.6118 - mae: 3.6118\n",
            "Epoch 23/100\n",
            "1/1 [==============================] - 0s 10ms/step - loss: 3.6432 - mae: 3.6432\n",
            "Epoch 24/100\n",
            "1/1 [==============================] - 0s 10ms/step - loss: 3.5939 - mae: 3.5939\n",
            "Epoch 25/100\n",
            "1/1 [==============================] - 0s 10ms/step - loss: 3.6349 - mae: 3.6349\n",
            "Epoch 26/100\n",
            "1/1 [==============================] - 0s 11ms/step - loss: 3.6140 - mae: 3.6140\n",
            "Epoch 27/100\n",
            "1/1 [==============================] - 0s 14ms/step - loss: 3.5768 - mae: 3.5768\n",
            "Epoch 28/100\n",
            "1/1 [==============================] - 0s 10ms/step - loss: 3.6424 - mae: 3.6424\n",
            "Epoch 29/100\n",
            "1/1 [==============================] - 0s 10ms/step - loss: 3.5930 - mae: 3.5930\n",
            "Epoch 30/100\n",
            "1/1 [==============================] - 0s 11ms/step - loss: 3.5999 - mae: 3.5999\n",
            "Epoch 31/100\n",
            "1/1 [==============================] - 0s 11ms/step - loss: 3.6134 - mae: 3.6134\n",
            "Epoch 32/100\n",
            "1/1 [==============================] - 0s 11ms/step - loss: 3.5618 - mae: 3.5618\n",
            "Epoch 33/100\n",
            "1/1 [==============================] - 0s 12ms/step - loss: 3.6211 - mae: 3.6211\n",
            "Epoch 34/100\n",
            "1/1 [==============================] - 0s 13ms/step - loss: 3.5925 - mae: 3.5925\n",
            "Epoch 35/100\n",
            "1/1 [==============================] - 0s 14ms/step - loss: 3.5643 - mae: 3.5643\n",
            "Epoch 36/100\n",
            "1/1 [==============================] - 0s 10ms/step - loss: 3.6130 - mae: 3.6130\n",
            "Epoch 37/100\n",
            "1/1 [==============================] - 0s 10ms/step - loss: 3.5613 - mae: 3.5613\n",
            "Epoch 38/100\n",
            "1/1 [==============================] - 0s 12ms/step - loss: 3.5853 - mae: 3.5853\n",
            "Epoch 39/100\n",
            "1/1 [==============================] - 0s 11ms/step - loss: 3.5922 - mae: 3.5922\n",
            "Epoch 40/100\n",
            "1/1 [==============================] - 0s 11ms/step - loss: 3.5409 - mae: 3.5409\n",
            "Epoch 41/100\n",
            "1/1 [==============================] - 0s 12ms/step - loss: 3.5994 - mae: 3.5994\n",
            "Epoch 42/100\n",
            "1/1 [==============================] - 0s 11ms/step - loss: 3.5612 - mae: 3.5612\n",
            "Epoch 43/100\n",
            "1/1 [==============================] - 0s 11ms/step - loss: 3.5491 - mae: 3.5491\n",
            "Epoch 44/100\n",
            "1/1 [==============================] - 0s 11ms/step - loss: 3.5923 - mae: 3.5923\n",
            "Epoch 45/100\n",
            "1/1 [==============================] - 0s 11ms/step - loss: 3.5409 - mae: 3.5409\n",
            "Epoch 46/100\n",
            "1/1 [==============================] - 0s 11ms/step - loss: 3.5632 - mae: 3.5632\n",
            "Epoch 47/100\n",
            "1/1 [==============================] - 0s 9ms/step - loss: 3.5613 - mae: 3.5613\n",
            "Epoch 48/100\n",
            "1/1 [==============================] - 0s 11ms/step - loss: 3.5182 - mae: 3.5182\n",
            "Epoch 49/100\n",
            "1/1 [==============================] - 0s 10ms/step - loss: 3.5851 - mae: 3.5851\n",
            "Epoch 50/100\n",
            "1/1 [==============================] - 0s 10ms/step - loss: 3.5410 - mae: 3.5410\n",
            "Epoch 51/100\n",
            "1/1 [==============================] - 0s 10ms/step - loss: 3.5266 - mae: 3.5266\n",
            "Epoch 52/100\n",
            "1/1 [==============================] - 0s 10ms/step - loss: 3.5617 - mae: 3.5617\n",
            "Epoch 53/100\n",
            "1/1 [==============================] - 0s 11ms/step - loss: 3.5183 - mae: 3.5183\n",
            "Epoch 54/100\n",
            "1/1 [==============================] - 0s 10ms/step - loss: 3.5484 - mae: 3.5484\n",
            "Epoch 55/100\n",
            "1/1 [==============================] - 0s 11ms/step - loss: 3.5415 - mae: 3.5415\n",
            "Epoch 56/100\n",
            "1/1 [==============================] - 0s 11ms/step - loss: 3.4907 - mae: 3.4907\n",
            "Epoch 57/100\n",
            "1/1 [==============================] - 0s 11ms/step - loss: 3.5600 - mae: 3.5600\n",
            "Epoch 58/100\n",
            "1/1 [==============================] - 0s 17ms/step - loss: 3.5187 - mae: 3.5187\n",
            "Epoch 59/100\n",
            "1/1 [==============================] - 0s 10ms/step - loss: 3.5111 - mae: 3.5111\n",
            "Epoch 60/100\n",
            "1/1 [==============================] - 0s 20ms/step - loss: 3.5423 - mae: 3.5423\n",
            "Epoch 61/100\n",
            "1/1 [==============================] - 0s 11ms/step - loss: 3.4914 - mae: 3.4914\n",
            "Epoch 62/100\n",
            "1/1 [==============================] - 0s 11ms/step - loss: 3.5227 - mae: 3.5227\n",
            "Epoch 63/100\n",
            "1/1 [==============================] - 0s 10ms/step - loss: 3.5192 - mae: 3.5192\n",
            "Epoch 64/100\n",
            "1/1 [==============================] - 0s 11ms/step - loss: 3.4733 - mae: 3.4733\n",
            "Epoch 65/100\n",
            "1/1 [==============================] - 0s 11ms/step - loss: 3.5433 - mae: 3.5433\n",
            "Epoch 66/100\n",
            "1/1 [==============================] - 0s 12ms/step - loss: 3.4922 - mae: 3.4922\n",
            "Epoch 67/100\n",
            "1/1 [==============================] - 0s 11ms/step - loss: 3.4849 - mae: 3.4849\n",
            "Epoch 68/100\n",
            "1/1 [==============================] - 0s 11ms/step - loss: 3.5200 - mae: 3.5200\n",
            "Epoch 69/100\n",
            "1/1 [==============================] - 0s 10ms/step - loss: 3.4728 - mae: 3.4728\n",
            "Epoch 70/100\n",
            "1/1 [==============================] - 0s 12ms/step - loss: 3.5059 - mae: 3.5059\n",
            "Epoch 71/100\n",
            "1/1 [==============================] - 0s 11ms/step - loss: 3.4934 - mae: 3.4934\n",
            "Epoch 72/100\n",
            "1/1 [==============================] - 0s 10ms/step - loss: 3.4465 - mae: 3.4465\n",
            "Epoch 73/100\n",
            "1/1 [==============================] - 0s 11ms/step - loss: 3.5210 - mae: 3.5210\n",
            "Epoch 74/100\n",
            "1/1 [==============================] - 0s 11ms/step - loss: 3.4740 - mae: 3.4740\n",
            "Epoch 75/100\n",
            "1/1 [==============================] - 0s 10ms/step - loss: 3.4675 - mae: 3.4675\n",
            "Epoch 76/100\n",
            "1/1 [==============================] - 0s 10ms/step - loss: 3.4949 - mae: 3.4949\n",
            "Epoch 77/100\n",
            "1/1 [==============================] - 0s 12ms/step - loss: 3.4444 - mae: 3.4444\n",
            "Epoch 78/100\n",
            "1/1 [==============================] - 0s 10ms/step - loss: 3.4853 - mae: 3.4853\n",
            "Epoch 79/100\n",
            "1/1 [==============================] - 0s 10ms/step - loss: 3.4756 - mae: 3.4756\n",
            "Epoch 80/100\n",
            "1/1 [==============================] - 0s 11ms/step - loss: 3.4284 - mae: 3.4284\n",
            "Epoch 81/100\n",
            "1/1 [==============================] - 0s 11ms/step - loss: 3.4966 - mae: 3.4966\n",
            "Epoch 82/100\n",
            "1/1 [==============================] - 0s 11ms/step - loss: 3.4459 - mae: 3.4459\n",
            "Epoch 83/100\n",
            "1/1 [==============================] - 0s 13ms/step - loss: 3.4460 - mae: 3.4460\n",
            "Epoch 84/100\n",
            "1/1 [==============================] - 0s 11ms/step - loss: 3.4774 - mae: 3.4774\n",
            "Epoch 85/100\n",
            "1/1 [==============================] - 0s 11ms/step - loss: 3.4270 - mae: 3.4270\n",
            "Epoch 86/100\n",
            "1/1 [==============================] - 0s 11ms/step - loss: 3.4595 - mae: 3.4595\n",
            "Epoch 87/100\n",
            "1/1 [==============================] - 0s 13ms/step - loss: 3.4478 - mae: 3.4478\n",
            "Epoch 88/100\n",
            "1/1 [==============================] - 0s 14ms/step - loss: 3.4060 - mae: 3.4060\n",
            "Epoch 89/100\n",
            "1/1 [==============================] - 0s 9ms/step - loss: 3.4795 - mae: 3.4795\n",
            "Epoch 90/100\n",
            "1/1 [==============================] - 0s 15ms/step - loss: 3.4289 - mae: 3.4289\n",
            "Epoch 91/100\n",
            "1/1 [==============================] - 0s 10ms/step - loss: 3.4198 - mae: 3.4198\n",
            "Epoch 92/100\n",
            "1/1 [==============================] - 0s 11ms/step - loss: 3.4500 - mae: 3.4500\n",
            "Epoch 93/100\n",
            "1/1 [==============================] - 0s 9ms/step - loss: 3.4060 - mae: 3.4060\n",
            "Epoch 94/100\n",
            "1/1 [==============================] - 0s 10ms/step - loss: 3.4397 - mae: 3.4397\n",
            "Epoch 95/100\n",
            "1/1 [==============================] - 0s 12ms/step - loss: 3.4312 - mae: 3.4312\n",
            "Epoch 96/100\n",
            "1/1 [==============================] - 0s 13ms/step - loss: 3.3814 - mae: 3.3814\n",
            "Epoch 97/100\n",
            "1/1 [==============================] - 0s 12ms/step - loss: 3.4495 - mae: 3.4495\n",
            "Epoch 98/100\n",
            "1/1 [==============================] - 0s 10ms/step - loss: 3.4080 - mae: 3.4080\n",
            "Epoch 99/100\n",
            "1/1 [==============================] - 0s 11ms/step - loss: 3.3994 - mae: 3.3994\n",
            "Epoch 100/100\n",
            "1/1 [==============================] - 0s 10ms/step - loss: 3.4337 - mae: 3.4337\n"
          ]
        },
        {
          "output_type": "execute_result",
          "data": {
            "text/plain": [
              "<keras.src.callbacks.History at 0x7f5a2ccc4580>"
            ]
          },
          "metadata": {},
          "execution_count": 11
        }
      ]
    },
    {
      "cell_type": "code",
      "source": [
        "model.predict([9,10,17.0])"
      ],
      "metadata": {
        "colab": {
          "base_uri": "https://localhost:8080/"
        },
        "id": "Abcr5FwfhZxh",
        "outputId": "9cb1261a-1a35-4770-dfb0-1e8fe1bc004a"
      },
      "execution_count": 12,
      "outputs": [
        {
          "output_type": "stream",
          "name": "stdout",
          "text": [
            "1/1 [==============================] - 0s 63ms/step\n"
          ]
        },
        {
          "output_type": "execute_result",
          "data": {
            "text/plain": [
              "array([[16.82555 ],\n",
              "       [18.591486],\n",
              "       [30.952896]], dtype=float32)"
            ]
          },
          "metadata": {},
          "execution_count": 12
        }
      ]
    },
    {
      "cell_type": "code",
      "source": [
        "model = tf.keras.Sequential([\n",
        "    tf.keras.layers.Dense(100,activation=\"relu\"),\n",
        "    tf.keras.layers.Dense(100,activation=\"relu\"),\n",
        "    tf.keras.layers.Dense(1)\n",
        "])\n",
        "model.compile(loss = tf.keras.losses.mae,optimizer = tf.keras.optimizers.Adam(learning_rate=0.01),metrics =[\"mae\"])"
      ],
      "metadata": {
        "id": "OL5iZMehiUGO"
      },
      "execution_count": 13,
      "outputs": []
    },
    {
      "cell_type": "code",
      "source": [
        "model.fit(tf.expand_dims(X_new,axis = -1),y, epochs = 100)"
      ],
      "metadata": {
        "colab": {
          "base_uri": "https://localhost:8080/"
        },
        "id": "kls_ynpEja7D",
        "outputId": "d6fe34d5-9e5a-4d9c-a17a-d16f7ee6c47a"
      },
      "execution_count": 14,
      "outputs": [
        {
          "output_type": "stream",
          "name": "stdout",
          "text": [
            "Epoch 1/100\n",
            "1/1 [==============================] - 1s 991ms/step - loss: 13.9219 - mae: 13.9219\n",
            "Epoch 2/100\n",
            "1/1 [==============================] - 0s 12ms/step - loss: 11.2454 - mae: 11.2454\n",
            "Epoch 3/100\n",
            "1/1 [==============================] - 0s 13ms/step - loss: 9.5700 - mae: 9.5700\n",
            "Epoch 4/100\n",
            "1/1 [==============================] - 0s 12ms/step - loss: 7.8851 - mae: 7.8851\n",
            "Epoch 5/100\n",
            "1/1 [==============================] - 0s 11ms/step - loss: 5.7825 - mae: 5.7825\n",
            "Epoch 6/100\n",
            "1/1 [==============================] - 0s 11ms/step - loss: 3.7728 - mae: 3.7728\n",
            "Epoch 7/100\n",
            "1/1 [==============================] - 0s 11ms/step - loss: 4.4506 - mae: 4.4506\n",
            "Epoch 8/100\n",
            "1/1 [==============================] - 0s 10ms/step - loss: 5.1145 - mae: 5.1145\n",
            "Epoch 9/100\n",
            "1/1 [==============================] - 0s 10ms/step - loss: 4.9511 - mae: 4.9511\n",
            "Epoch 10/100\n",
            "1/1 [==============================] - 0s 10ms/step - loss: 4.3669 - mae: 4.3669\n",
            "Epoch 11/100\n",
            "1/1 [==============================] - 0s 12ms/step - loss: 3.7299 - mae: 3.7299\n",
            "Epoch 12/100\n",
            "1/1 [==============================] - 0s 11ms/step - loss: 3.4719 - mae: 3.4719\n",
            "Epoch 13/100\n",
            "1/1 [==============================] - 0s 12ms/step - loss: 3.5086 - mae: 3.5086\n",
            "Epoch 14/100\n",
            "1/1 [==============================] - 0s 11ms/step - loss: 3.8712 - mae: 3.8712\n",
            "Epoch 15/100\n",
            "1/1 [==============================] - 0s 11ms/step - loss: 3.6586 - mae: 3.6586\n",
            "Epoch 16/100\n",
            "1/1 [==============================] - 0s 11ms/step - loss: 3.1831 - mae: 3.1831\n",
            "Epoch 17/100\n",
            "1/1 [==============================] - 0s 10ms/step - loss: 3.2028 - mae: 3.2028\n",
            "Epoch 18/100\n",
            "1/1 [==============================] - 0s 12ms/step - loss: 3.2938 - mae: 3.2938\n",
            "Epoch 19/100\n",
            "1/1 [==============================] - 0s 11ms/step - loss: 3.3671 - mae: 3.3671\n",
            "Epoch 20/100\n",
            "1/1 [==============================] - 0s 11ms/step - loss: 3.1498 - mae: 3.1498\n",
            "Epoch 21/100\n",
            "1/1 [==============================] - 0s 11ms/step - loss: 2.9807 - mae: 2.9807\n",
            "Epoch 22/100\n",
            "1/1 [==============================] - 0s 11ms/step - loss: 2.8000 - mae: 2.8000\n",
            "Epoch 23/100\n",
            "1/1 [==============================] - 0s 11ms/step - loss: 2.8228 - mae: 2.8228\n",
            "Epoch 24/100\n",
            "1/1 [==============================] - 0s 11ms/step - loss: 2.9245 - mae: 2.9245\n",
            "Epoch 25/100\n",
            "1/1 [==============================] - 0s 11ms/step - loss: 2.5773 - mae: 2.5773\n",
            "Epoch 26/100\n",
            "1/1 [==============================] - 0s 10ms/step - loss: 2.3481 - mae: 2.3481\n",
            "Epoch 27/100\n",
            "1/1 [==============================] - 0s 10ms/step - loss: 2.2619 - mae: 2.2619\n",
            "Epoch 28/100\n",
            "1/1 [==============================] - 0s 11ms/step - loss: 2.1756 - mae: 2.1756\n",
            "Epoch 29/100\n",
            "1/1 [==============================] - 0s 9ms/step - loss: 2.0330 - mae: 2.0330\n",
            "Epoch 30/100\n",
            "1/1 [==============================] - 0s 12ms/step - loss: 1.6962 - mae: 1.6962\n",
            "Epoch 31/100\n",
            "1/1 [==============================] - 0s 10ms/step - loss: 1.4492 - mae: 1.4492\n",
            "Epoch 32/100\n",
            "1/1 [==============================] - 0s 11ms/step - loss: 1.2967 - mae: 1.2967\n",
            "Epoch 33/100\n",
            "1/1 [==============================] - 0s 11ms/step - loss: 1.0805 - mae: 1.0805\n",
            "Epoch 34/100\n",
            "1/1 [==============================] - 0s 11ms/step - loss: 1.0535 - mae: 1.0535\n",
            "Epoch 35/100\n",
            "1/1 [==============================] - 0s 17ms/step - loss: 1.0407 - mae: 1.0407\n",
            "Epoch 36/100\n",
            "1/1 [==============================] - 0s 9ms/step - loss: 0.4192 - mae: 0.4192\n",
            "Epoch 37/100\n",
            "1/1 [==============================] - 0s 10ms/step - loss: 0.8003 - mae: 0.8003\n",
            "Epoch 38/100\n",
            "1/1 [==============================] - 0s 8ms/step - loss: 0.6043 - mae: 0.6043\n",
            "Epoch 39/100\n",
            "1/1 [==============================] - 0s 12ms/step - loss: 0.6980 - mae: 0.6980\n",
            "Epoch 40/100\n",
            "1/1 [==============================] - 0s 9ms/step - loss: 0.6235 - mae: 0.6235\n",
            "Epoch 41/100\n",
            "1/1 [==============================] - 0s 16ms/step - loss: 0.9060 - mae: 0.9060\n",
            "Epoch 42/100\n",
            "1/1 [==============================] - 0s 10ms/step - loss: 1.0600 - mae: 1.0600\n",
            "Epoch 43/100\n",
            "1/1 [==============================] - 0s 11ms/step - loss: 0.6216 - mae: 0.6216\n",
            "Epoch 44/100\n",
            "1/1 [==============================] - 0s 11ms/step - loss: 0.7296 - mae: 0.7296\n",
            "Epoch 45/100\n",
            "1/1 [==============================] - 0s 11ms/step - loss: 0.7733 - mae: 0.7733\n",
            "Epoch 46/100\n",
            "1/1 [==============================] - 0s 11ms/step - loss: 0.5918 - mae: 0.5918\n",
            "Epoch 47/100\n",
            "1/1 [==============================] - 0s 11ms/step - loss: 0.4582 - mae: 0.4582\n",
            "Epoch 48/100\n",
            "1/1 [==============================] - 0s 11ms/step - loss: 0.6369 - mae: 0.6369\n",
            "Epoch 49/100\n",
            "1/1 [==============================] - 0s 11ms/step - loss: 0.5495 - mae: 0.5495\n",
            "Epoch 50/100\n",
            "1/1 [==============================] - 0s 9ms/step - loss: 0.3734 - mae: 0.3734\n",
            "Epoch 51/100\n",
            "1/1 [==============================] - 0s 13ms/step - loss: 0.3863 - mae: 0.3863\n",
            "Epoch 52/100\n",
            "1/1 [==============================] - 0s 15ms/step - loss: 0.2585 - mae: 0.2585\n",
            "Epoch 53/100\n",
            "1/1 [==============================] - 0s 12ms/step - loss: 0.3800 - mae: 0.3800\n",
            "Epoch 54/100\n",
            "1/1 [==============================] - 0s 11ms/step - loss: 0.2645 - mae: 0.2645\n",
            "Epoch 55/100\n",
            "1/1 [==============================] - 0s 12ms/step - loss: 0.5299 - mae: 0.5299\n",
            "Epoch 56/100\n",
            "1/1 [==============================] - 0s 12ms/step - loss: 0.2254 - mae: 0.2254\n",
            "Epoch 57/100\n",
            "1/1 [==============================] - 0s 11ms/step - loss: 0.8693 - mae: 0.8693\n",
            "Epoch 58/100\n",
            "1/1 [==============================] - 0s 11ms/step - loss: 1.0283 - mae: 1.0283\n",
            "Epoch 59/100\n",
            "1/1 [==============================] - 0s 13ms/step - loss: 0.4665 - mae: 0.4665\n",
            "Epoch 60/100\n",
            "1/1 [==============================] - 0s 13ms/step - loss: 0.6851 - mae: 0.6851\n",
            "Epoch 61/100\n",
            "1/1 [==============================] - 0s 11ms/step - loss: 1.0882 - mae: 1.0882\n",
            "Epoch 62/100\n",
            "1/1 [==============================] - 0s 11ms/step - loss: 0.8873 - mae: 0.8873\n",
            "Epoch 63/100\n",
            "1/1 [==============================] - 0s 11ms/step - loss: 0.3353 - mae: 0.3353\n",
            "Epoch 64/100\n",
            "1/1 [==============================] - 0s 10ms/step - loss: 0.5866 - mae: 0.5866\n",
            "Epoch 65/100\n",
            "1/1 [==============================] - 0s 15ms/step - loss: 0.4632 - mae: 0.4632\n",
            "Epoch 66/100\n",
            "1/1 [==============================] - 0s 11ms/step - loss: 0.3510 - mae: 0.3510\n",
            "Epoch 67/100\n",
            "1/1 [==============================] - 0s 11ms/step - loss: 0.4582 - mae: 0.4582\n",
            "Epoch 68/100\n",
            "1/1 [==============================] - 0s 12ms/step - loss: 0.1266 - mae: 0.1266\n",
            "Epoch 69/100\n",
            "1/1 [==============================] - 0s 11ms/step - loss: 0.1808 - mae: 0.1808\n",
            "Epoch 70/100\n",
            "1/1 [==============================] - 0s 11ms/step - loss: 0.1808 - mae: 0.1808\n",
            "Epoch 71/100\n",
            "1/1 [==============================] - 0s 12ms/step - loss: 0.3375 - mae: 0.3375\n",
            "Epoch 72/100\n",
            "1/1 [==============================] - 0s 12ms/step - loss: 0.1755 - mae: 0.1755\n",
            "Epoch 73/100\n",
            "1/1 [==============================] - 0s 11ms/step - loss: 0.3975 - mae: 0.3975\n",
            "Epoch 74/100\n",
            "1/1 [==============================] - 0s 10ms/step - loss: 0.3082 - mae: 0.3082\n",
            "Epoch 75/100\n",
            "1/1 [==============================] - 0s 8ms/step - loss: 0.3193 - mae: 0.3193\n",
            "Epoch 76/100\n",
            "1/1 [==============================] - 0s 12ms/step - loss: 0.3161 - mae: 0.3161\n",
            "Epoch 77/100\n",
            "1/1 [==============================] - 0s 15ms/step - loss: 0.2766 - mae: 0.2766\n",
            "Epoch 78/100\n",
            "1/1 [==============================] - 0s 13ms/step - loss: 0.2543 - mae: 0.2543\n",
            "Epoch 79/100\n",
            "1/1 [==============================] - 0s 14ms/step - loss: 0.2992 - mae: 0.2992\n",
            "Epoch 80/100\n",
            "1/1 [==============================] - 0s 10ms/step - loss: 0.2032 - mae: 0.2032\n",
            "Epoch 81/100\n",
            "1/1 [==============================] - 0s 13ms/step - loss: 0.2707 - mae: 0.2707\n",
            "Epoch 82/100\n",
            "1/1 [==============================] - 0s 12ms/step - loss: 0.1101 - mae: 0.1101\n",
            "Epoch 83/100\n",
            "1/1 [==============================] - 0s 12ms/step - loss: 0.4555 - mae: 0.4555\n",
            "Epoch 84/100\n",
            "1/1 [==============================] - 0s 12ms/step - loss: 0.3606 - mae: 0.3606\n",
            "Epoch 85/100\n",
            "1/1 [==============================] - 0s 12ms/step - loss: 0.2932 - mae: 0.2932\n",
            "Epoch 86/100\n",
            "1/1 [==============================] - 0s 11ms/step - loss: 0.3264 - mae: 0.3264\n",
            "Epoch 87/100\n",
            "1/1 [==============================] - 0s 11ms/step - loss: 0.2645 - mae: 0.2645\n",
            "Epoch 88/100\n",
            "1/1 [==============================] - 0s 11ms/step - loss: 0.2469 - mae: 0.2469\n",
            "Epoch 89/100\n",
            "1/1 [==============================] - 0s 11ms/step - loss: 0.1867 - mae: 0.1867\n",
            "Epoch 90/100\n",
            "1/1 [==============================] - 0s 12ms/step - loss: 0.1561 - mae: 0.1561\n",
            "Epoch 91/100\n",
            "1/1 [==============================] - 0s 11ms/step - loss: 0.1202 - mae: 0.1202\n",
            "Epoch 92/100\n",
            "1/1 [==============================] - 0s 11ms/step - loss: 0.3192 - mae: 0.3192\n",
            "Epoch 93/100\n",
            "1/1 [==============================] - 0s 12ms/step - loss: 0.2239 - mae: 0.2239\n",
            "Epoch 94/100\n",
            "1/1 [==============================] - 0s 11ms/step - loss: 0.2204 - mae: 0.2204\n",
            "Epoch 95/100\n",
            "1/1 [==============================] - 0s 15ms/step - loss: 0.1364 - mae: 0.1364\n",
            "Epoch 96/100\n",
            "1/1 [==============================] - 0s 12ms/step - loss: 0.3462 - mae: 0.3462\n",
            "Epoch 97/100\n",
            "1/1 [==============================] - 0s 9ms/step - loss: 0.1861 - mae: 0.1861\n",
            "Epoch 98/100\n",
            "1/1 [==============================] - 0s 9ms/step - loss: 0.4135 - mae: 0.4135\n",
            "Epoch 99/100\n",
            "1/1 [==============================] - 0s 11ms/step - loss: 0.3369 - mae: 0.3369\n",
            "Epoch 100/100\n",
            "1/1 [==============================] - 0s 10ms/step - loss: 0.2670 - mae: 0.2670\n"
          ]
        },
        {
          "output_type": "execute_result",
          "data": {
            "text/plain": [
              "<keras.src.callbacks.History at 0x7f5a2cd93880>"
            ]
          },
          "metadata": {},
          "execution_count": 14
        }
      ]
    },
    {
      "cell_type": "code",
      "source": [
        "X_new,y"
      ],
      "metadata": {
        "colab": {
          "base_uri": "https://localhost:8080/"
        },
        "id": "N2RgcdGWkR1s",
        "outputId": "33861d36-1628-4cc8-8919-d62e934dd2b0"
      },
      "execution_count": 15,
      "outputs": [
        {
          "output_type": "execute_result",
          "data": {
            "text/plain": [
              "(<tf.Tensor: shape=(8,), dtype=float32, numpy=\n",
              " array([-6.328744  , -3.004605  , -0.44194782,  2.7168794 ,  5.872221  ,\n",
              "         8.261195  , 11.465946  , 14.204455  ], dtype=float32)>,\n",
              " <tf.Tensor: shape=(8,), dtype=float32, numpy=array([ 3.,  6.,  9., 12., 15., 18., 21., 24.], dtype=float32)>)"
            ]
          },
          "metadata": {},
          "execution_count": 15
        }
      ]
    },
    {
      "cell_type": "code",
      "source": [
        "model.predict([0,1,2,3,2.4401197])"
      ],
      "metadata": {
        "colab": {
          "base_uri": "https://localhost:8080/"
        },
        "id": "yvqaSpCnjdaP",
        "outputId": "3a451fc2-749d-49c6-9c49-584c28ca5723"
      },
      "execution_count": 16,
      "outputs": [
        {
          "output_type": "stream",
          "name": "stdout",
          "text": [
            "1/1 [==============================] - 0s 93ms/step\n"
          ]
        },
        {
          "output_type": "execute_result",
          "data": {
            "text/plain": [
              "array([[ 9.698528],\n",
              "       [10.566504],\n",
              "       [11.490432],\n",
              "       [12.438098],\n",
              "       [11.902652]], dtype=float32)"
            ]
          },
          "metadata": {},
          "execution_count": 16
        }
      ]
    },
    {
      "cell_type": "code",
      "source": [
        "model.predict([-10])"
      ],
      "metadata": {
        "colab": {
          "base_uri": "https://localhost:8080/"
        },
        "id": "HdtvjUrVkINc",
        "outputId": "ef4b473c-d308-4e77-abde-a71ecbcd8a80"
      },
      "execution_count": 17,
      "outputs": [
        {
          "output_type": "stream",
          "name": "stdout",
          "text": [
            "1/1 [==============================] - 0s 89ms/step\n"
          ]
        },
        {
          "output_type": "execute_result",
          "data": {
            "text/plain": [
              "array([[0.86441517]], dtype=float32)"
            ]
          },
          "metadata": {},
          "execution_count": 17
        }
      ]
    },
    {
      "cell_type": "code",
      "source": [
        "X = tf.range(-100,100,2)\n",
        "X = tf.cast(X,dtype=tf.float32)"
      ],
      "metadata": {
        "id": "Rx9yZVgbktwM"
      },
      "execution_count": 43,
      "outputs": []
    },
    {
      "cell_type": "code",
      "source": [
        "noise = tf.random.normal(shape=(100,), mean=0, stddev=1)\n",
        "y = X + 9"
      ],
      "metadata": {
        "id": "vaQRNy8HoxT_"
      },
      "execution_count": 44,
      "outputs": []
    },
    {
      "cell_type": "code",
      "source": [
        "X"
      ],
      "metadata": {
        "colab": {
          "base_uri": "https://localhost:8080/"
        },
        "id": "X6Kck-jyoxV1",
        "outputId": "dbf65310-18e7-441a-c42a-d755805a61e3"
      },
      "execution_count": 45,
      "outputs": [
        {
          "output_type": "execute_result",
          "data": {
            "text/plain": [
              "<tf.Tensor: shape=(100,), dtype=float32, numpy=\n",
              "array([-100.,  -98.,  -96.,  -94.,  -92.,  -90.,  -88.,  -86.,  -84.,\n",
              "        -82.,  -80.,  -78.,  -76.,  -74.,  -72.,  -70.,  -68.,  -66.,\n",
              "        -64.,  -62.,  -60.,  -58.,  -56.,  -54.,  -52.,  -50.,  -48.,\n",
              "        -46.,  -44.,  -42.,  -40.,  -38.,  -36.,  -34.,  -32.,  -30.,\n",
              "        -28.,  -26.,  -24.,  -22.,  -20.,  -18.,  -16.,  -14.,  -12.,\n",
              "        -10.,   -8.,   -6.,   -4.,   -2.,    0.,    2.,    4.,    6.,\n",
              "          8.,   10.,   12.,   14.,   16.,   18.,   20.,   22.,   24.,\n",
              "         26.,   28.,   30.,   32.,   34.,   36.,   38.,   40.,   42.,\n",
              "         44.,   46.,   48.,   50.,   52.,   54.,   56.,   58.,   60.,\n",
              "         62.,   64.,   66.,   68.,   70.,   72.,   74.,   76.,   78.,\n",
              "         80.,   82.,   84.,   86.,   88.,   90.,   92.,   94.,   96.,\n",
              "         98.], dtype=float32)>"
            ]
          },
          "metadata": {},
          "execution_count": 45
        }
      ]
    },
    {
      "cell_type": "code",
      "source": [
        "y"
      ],
      "metadata": {
        "colab": {
          "base_uri": "https://localhost:8080/"
        },
        "id": "NUtIqHJEoxX6",
        "outputId": "e4e80f33-bcd4-43da-ce16-ca2a777c50a7"
      },
      "execution_count": 46,
      "outputs": [
        {
          "output_type": "execute_result",
          "data": {
            "text/plain": [
              "<tf.Tensor: shape=(100,), dtype=float32, numpy=\n",
              "array([-91., -89., -87., -85., -83., -81., -79., -77., -75., -73., -71.,\n",
              "       -69., -67., -65., -63., -61., -59., -57., -55., -53., -51., -49.,\n",
              "       -47., -45., -43., -41., -39., -37., -35., -33., -31., -29., -27.,\n",
              "       -25., -23., -21., -19., -17., -15., -13., -11.,  -9.,  -7.,  -5.,\n",
              "        -3.,  -1.,   1.,   3.,   5.,   7.,   9.,  11.,  13.,  15.,  17.,\n",
              "        19.,  21.,  23.,  25.,  27.,  29.,  31.,  33.,  35.,  37.,  39.,\n",
              "        41.,  43.,  45.,  47.,  49.,  51.,  53.,  55.,  57.,  59.,  61.,\n",
              "        63.,  65.,  67.,  69.,  71.,  73.,  75.,  77.,  79.,  81.,  83.,\n",
              "        85.,  87.,  89.,  91.,  93.,  95.,  97.,  99., 101., 103., 105.,\n",
              "       107.], dtype=float32)>"
            ]
          },
          "metadata": {},
          "execution_count": 46
        }
      ]
    },
    {
      "cell_type": "code",
      "source": [
        "import matplotlib.pyplot as plt"
      ],
      "metadata": {
        "id": "XMuvEd7QoxZv"
      },
      "execution_count": 47,
      "outputs": []
    },
    {
      "cell_type": "code",
      "source": [
        "plt.scatter(X,y)"
      ],
      "metadata": {
        "colab": {
          "base_uri": "https://localhost:8080/",
          "height": 448
        },
        "id": "YIWoNtzBoxb1",
        "outputId": "c1c65df3-ced8-4167-bc98-a6662e5a2ed2"
      },
      "execution_count": 48,
      "outputs": [
        {
          "output_type": "execute_result",
          "data": {
            "text/plain": [
              "<matplotlib.collections.PathCollection at 0x7f5a0ee236d0>"
            ]
          },
          "metadata": {},
          "execution_count": 48
        },
        {
          "output_type": "display_data",
          "data": {
            "text/plain": [
              "<Figure size 640x480 with 1 Axes>"
            ],
            "image/png": "[encoded data removed]"
          },
          "metadata": {}
        }
      ]
    },
    {
      "cell_type": "code",
      "source": [
        "X_train = X[:80]\n",
        "X_test = X[80:]\n",
        "\n",
        "y_train = y[:80]\n",
        "y_test = y[80:]"
      ],
      "metadata": {
        "id": "LerqIdZ_rylZ"
      },
      "execution_count": 49,
      "outputs": []
    },
    {
      "cell_type": "code",
      "source": [
        "plt.scatter(X_train,y_train,c=\"r\",label =\"training\")\n",
        "plt.scatter(X_test,y_test,c=\"b\",label =\"testing\")\n",
        "plt.legend();"
      ],
      "metadata": {
        "colab": {
          "base_uri": "https://localhost:8080/",
          "height": 430
        },
        "id": "LieGHDYFzM_C",
        "outputId": "f230dab2-4d34-4cf2-a89e-cbdd1b8d9b44"
      },
      "execution_count": 50,
      "outputs": [
        {
          "output_type": "display_data",
          "data": {
            "text/plain": [
              "<Figure size 640x480 with 1 Axes>"
            ],
            "image/png": "[encoded data removed]"
          },
          "metadata": {}
        }
      ]
    },
    {
      "cell_type": "code",
      "source": [
        "tf.random.set_seed(42)\n",
        "# Create a model (same as above)\n",
        "model = tf.keras.Sequential([\n",
        "  # tf.keras.layers.Dense(1),\n",
        "  tf.keras.layers.Dense(100,activation=\"relu\",input_shape=[1]),\n",
        "  tf.keras.layers.Dense(1),\n",
        "\n",
        "\n",
        "])\n",
        "# Compile model (same as above)\n",
        "model.compile(loss=tf.keras.losses.mae,\n",
        "              optimizer=tf.keras.optimizers.SGD(learning_rate=0.001),\n",
        "              metrics=[\"mae\"])"
      ],
      "metadata": {
        "id": "eaqNoZ6G0p94"
      },
      "execution_count": 66,
      "outputs": []
    },
    {
      "cell_type": "code",
      "source": [
        "model.fit(X_train, y_train, epochs=100)"
      ],
      "metadata": {
        "colab": {
          "base_uri": "https://localhost:8080/"
        },
        "id": "X477jOLj4mqe",
        "outputId": "3e799f72-620f-4e42-9d8c-0c7a5b64e1de"
      },
      "execution_count": 67,
      "outputs": [
        {
          "output_type": "stream",
          "name": "stdout",
          "text": [
            "Epoch 1/100\n",
            "3/3 [==============================] - 0s 8ms/step - loss: 40.5393 - mae: 40.5393\n",
            "Epoch 2/100\n",
            "3/3 [==============================] - 0s 5ms/step - loss: 33.5154 - mae: 33.5154\n",
            "Epoch 3/100\n",
            "3/3 [==============================] - 0s 5ms/step - loss: 25.9746 - mae: 25.9746\n",
            "Epoch 4/100\n",
            "3/3 [==============================] - 0s 5ms/step - loss: 18.7559 - mae: 18.7559\n",
            "Epoch 5/100\n",
            "3/3 [==============================] - 0s 5ms/step - loss: 13.0058 - mae: 13.0058\n",
            "Epoch 6/100\n",
            "3/3 [==============================] - 0s 5ms/step - loss: 10.9704 - mae: 10.9704\n",
            "Epoch 7/100\n",
            "3/3 [==============================] - 0s 4ms/step - loss: 10.1446 - mae: 10.1446\n",
            "Epoch 8/100\n",
            "3/3 [==============================] - 0s 4ms/step - loss: 9.1435 - mae: 9.1435\n",
            "Epoch 9/100\n",
            "3/3 [==============================] - 0s 5ms/step - loss: 8.1823 - mae: 8.1823\n",
            "Epoch 10/100\n",
            "3/3 [==============================] - 0s 5ms/step - loss: 7.2253 - mae: 7.2253\n",
            "Epoch 11/100\n",
            "3/3 [==============================] - 0s 5ms/step - loss: 6.3200 - mae: 6.3200\n",
            "Epoch 12/100\n",
            "3/3 [==============================] - 0s 5ms/step - loss: 5.0013 - mae: 5.0013\n",
            "Epoch 13/100\n",
            "3/3 [==============================] - 0s 5ms/step - loss: 4.8575 - mae: 4.8575\n",
            "Epoch 14/100\n",
            "3/3 [==============================] - 0s 5ms/step - loss: 3.7773 - mae: 3.7773\n",
            "Epoch 15/100\n",
            "3/3 [==============================] - 0s 5ms/step - loss: 4.2788 - mae: 4.2788\n",
            "Epoch 16/100\n",
            "3/3 [==============================] - 0s 5ms/step - loss: 3.7935 - mae: 3.7935\n",
            "Epoch 17/100\n",
            "3/3 [==============================] - 0s 6ms/step - loss: 3.8305 - mae: 3.8305\n",
            "Epoch 18/100\n",
            "3/3 [==============================] - 0s 6ms/step - loss: 4.3668 - mae: 4.3668\n",
            "Epoch 19/100\n",
            "3/3 [==============================] - 0s 5ms/step - loss: 4.0609 - mae: 4.0609\n",
            "Epoch 20/100\n",
            "3/3 [==============================] - 0s 5ms/step - loss: 3.8365 - mae: 3.8365\n",
            "Epoch 21/100\n",
            "3/3 [==============================] - 0s 5ms/step - loss: 4.1814 - mae: 4.1814\n",
            "Epoch 22/100\n",
            "3/3 [==============================] - 0s 5ms/step - loss: 3.7651 - mae: 3.7651\n",
            "Epoch 23/100\n",
            "3/3 [==============================] - 0s 5ms/step - loss: 3.8465 - mae: 3.8465\n",
            "Epoch 24/100\n",
            "3/3 [==============================] - 0s 5ms/step - loss: 3.9685 - mae: 3.9685\n",
            "Epoch 25/100\n",
            "3/3 [==============================] - 0s 5ms/step - loss: 3.8491 - mae: 3.8491\n",
            "Epoch 26/100\n",
            "3/3 [==============================] - 0s 5ms/step - loss: 3.7399 - mae: 3.7399\n",
            "Epoch 27/100\n",
            "3/3 [==============================] - 0s 5ms/step - loss: 3.9153 - mae: 3.9153\n",
            "Epoch 28/100\n",
            "3/3 [==============================] - 0s 5ms/step - loss: 3.7141 - mae: 3.7141\n",
            "Epoch 29/100\n",
            "3/3 [==============================] - 0s 5ms/step - loss: 3.8766 - mae: 3.8766\n",
            "Epoch 30/100\n",
            "3/3 [==============================] - 0s 6ms/step - loss: 3.9948 - mae: 3.9948\n",
            "Epoch 31/100\n",
            "3/3 [==============================] - 0s 5ms/step - loss: 3.7667 - mae: 3.7667\n",
            "Epoch 32/100\n",
            "3/3 [==============================] - 0s 5ms/step - loss: 3.9296 - mae: 3.9296\n",
            "Epoch 33/100\n",
            "3/3 [==============================] - 0s 5ms/step - loss: 3.9590 - mae: 3.9590\n",
            "Epoch 34/100\n",
            "3/3 [==============================] - 0s 8ms/step - loss: 3.7993 - mae: 3.7993\n",
            "Epoch 35/100\n",
            "3/3 [==============================] - 0s 5ms/step - loss: 3.7699 - mae: 3.7699\n",
            "Epoch 36/100\n",
            "3/3 [==============================] - 0s 5ms/step - loss: 3.7457 - mae: 3.7457\n",
            "Epoch 37/100\n",
            "3/3 [==============================] - 0s 5ms/step - loss: 3.8007 - mae: 3.8007\n",
            "Epoch 38/100\n",
            "3/3 [==============================] - 0s 8ms/step - loss: 3.8485 - mae: 3.8485\n",
            "Epoch 39/100\n",
            "3/3 [==============================] - 0s 5ms/step - loss: 3.7409 - mae: 3.7409\n",
            "Epoch 40/100\n",
            "3/3 [==============================] - 0s 5ms/step - loss: 3.8881 - mae: 3.8881\n",
            "Epoch 41/100\n",
            "3/3 [==============================] - 0s 5ms/step - loss: 4.1151 - mae: 4.1151\n",
            "Epoch 42/100\n",
            "3/3 [==============================] - 0s 5ms/step - loss: 3.7414 - mae: 3.7414\n",
            "Epoch 43/100\n",
            "3/3 [==============================] - 0s 5ms/step - loss: 3.7986 - mae: 3.7986\n",
            "Epoch 44/100\n",
            "3/3 [==============================] - 0s 5ms/step - loss: 3.7128 - mae: 3.7128\n",
            "Epoch 45/100\n",
            "3/3 [==============================] - 0s 5ms/step - loss: 3.8305 - mae: 3.8305\n",
            "Epoch 46/100\n",
            "3/3 [==============================] - 0s 6ms/step - loss: 4.2267 - mae: 4.2267\n",
            "Epoch 47/100\n",
            "3/3 [==============================] - 0s 5ms/step - loss: 3.7444 - mae: 3.7444\n",
            "Epoch 48/100\n",
            "3/3 [==============================] - 0s 5ms/step - loss: 3.8522 - mae: 3.8522\n",
            "Epoch 49/100\n",
            "3/3 [==============================] - 0s 5ms/step - loss: 4.1312 - mae: 4.1312\n",
            "Epoch 50/100\n",
            "3/3 [==============================] - 0s 5ms/step - loss: 3.7668 - mae: 3.7668\n",
            "Epoch 51/100\n",
            "3/3 [==============================] - 0s 5ms/step - loss: 3.7712 - mae: 3.7712\n",
            "Epoch 52/100\n",
            "3/3 [==============================] - 0s 5ms/step - loss: 3.8316 - mae: 3.8316\n",
            "Epoch 53/100\n",
            "3/3 [==============================] - 0s 5ms/step - loss: 3.8295 - mae: 3.8295\n",
            "Epoch 54/100\n",
            "3/3 [==============================] - 0s 6ms/step - loss: 4.5762 - mae: 4.5762\n",
            "Epoch 55/100\n",
            "3/3 [==============================] - 0s 5ms/step - loss: 3.7993 - mae: 3.7993\n",
            "Epoch 56/100\n",
            "3/3 [==============================] - 0s 6ms/step - loss: 3.7003 - mae: 3.7003\n",
            "Epoch 57/100\n",
            "3/3 [==============================] - 0s 5ms/step - loss: 3.9206 - mae: 3.9206\n",
            "Epoch 58/100\n",
            "3/3 [==============================] - 0s 5ms/step - loss: 3.8264 - mae: 3.8264\n",
            "Epoch 59/100\n",
            "3/3 [==============================] - 0s 5ms/step - loss: 3.8823 - mae: 3.8823\n",
            "Epoch 60/100\n",
            "3/3 [==============================] - 0s 5ms/step - loss: 3.8778 - mae: 3.8778\n",
            "Epoch 61/100\n",
            "3/3 [==============================] - 0s 5ms/step - loss: 4.0646 - mae: 4.0646\n",
            "Epoch 62/100\n",
            "3/3 [==============================] - 0s 5ms/step - loss: 4.0123 - mae: 4.0123\n",
            "Epoch 63/100\n",
            "3/3 [==============================] - 0s 5ms/step - loss: 3.8729 - mae: 3.8729\n",
            "Epoch 64/100\n",
            "3/3 [==============================] - 0s 5ms/step - loss: 3.7451 - mae: 3.7451\n",
            "Epoch 65/100\n",
            "3/3 [==============================] - 0s 5ms/step - loss: 3.8868 - mae: 3.8868\n",
            "Epoch 66/100\n",
            "3/3 [==============================] - 0s 6ms/step - loss: 3.8586 - mae: 3.8586\n",
            "Epoch 67/100\n",
            "3/3 [==============================] - 0s 6ms/step - loss: 3.7342 - mae: 3.7342\n",
            "Epoch 68/100\n",
            "3/3 [==============================] - 0s 7ms/step - loss: 3.9561 - mae: 3.9561\n",
            "Epoch 69/100\n",
            "3/3 [==============================] - 0s 6ms/step - loss: 3.7648 - mae: 3.7648\n",
            "Epoch 70/100\n",
            "3/3 [==============================] - 0s 5ms/step - loss: 3.7279 - mae: 3.7279\n",
            "Epoch 71/100\n",
            "3/3 [==============================] - 0s 5ms/step - loss: 3.9595 - mae: 3.9595\n",
            "Epoch 72/100\n",
            "3/3 [==============================] - 0s 5ms/step - loss: 3.9716 - mae: 3.9716\n",
            "Epoch 73/100\n",
            "3/3 [==============================] - 0s 5ms/step - loss: 3.7567 - mae: 3.7567\n",
            "Epoch 74/100\n",
            "3/3 [==============================] - 0s 5ms/step - loss: 4.1648 - mae: 4.1648\n",
            "Epoch 75/100\n",
            "3/3 [==============================] - 0s 5ms/step - loss: 4.2582 - mae: 4.2582\n",
            "Epoch 76/100\n",
            "3/3 [==============================] - 0s 5ms/step - loss: 3.9309 - mae: 3.9309\n",
            "Epoch 77/100\n",
            "3/3 [==============================] - 0s 5ms/step - loss: 3.6771 - mae: 3.6771\n",
            "Epoch 78/100\n",
            "3/3 [==============================] - 0s 5ms/step - loss: 3.7009 - mae: 3.7009\n",
            "Epoch 79/100\n",
            "3/3 [==============================] - 0s 5ms/step - loss: 3.6637 - mae: 3.6637\n",
            "Epoch 80/100\n",
            "3/3 [==============================] - 0s 5ms/step - loss: 3.7462 - mae: 3.7462\n",
            "Epoch 81/100\n",
            "3/3 [==============================] - 0s 5ms/step - loss: 3.7878 - mae: 3.7878\n",
            "Epoch 82/100\n",
            "3/3 [==============================] - 0s 10ms/step - loss: 4.0460 - mae: 4.0460\n",
            "Epoch 83/100\n",
            "3/3 [==============================] - 0s 6ms/step - loss: 3.9272 - mae: 3.9272\n",
            "Epoch 84/100\n",
            "3/3 [==============================] - 0s 5ms/step - loss: 4.2505 - mae: 4.2505\n",
            "Epoch 85/100\n",
            "3/3 [==============================] - 0s 5ms/step - loss: 3.7640 - mae: 3.7640\n",
            "Epoch 86/100\n",
            "3/3 [==============================] - 0s 5ms/step - loss: 3.9655 - mae: 3.9655\n",
            "Epoch 87/100\n",
            "3/3 [==============================] - 0s 5ms/step - loss: 3.6827 - mae: 3.6827\n",
            "Epoch 88/100\n",
            "3/3 [==============================] - 0s 5ms/step - loss: 3.7115 - mae: 3.7115\n",
            "Epoch 89/100\n",
            "3/3 [==============================] - 0s 5ms/step - loss: 3.8876 - mae: 3.8876\n",
            "Epoch 90/100\n",
            "3/3 [==============================] - 0s 5ms/step - loss: 4.5732 - mae: 4.5732\n",
            "Epoch 91/100\n",
            "3/3 [==============================] - 0s 5ms/step - loss: 3.8054 - mae: 3.8054\n",
            "Epoch 92/100\n",
            "3/3 [==============================] - 0s 5ms/step - loss: 4.1766 - mae: 4.1766\n",
            "Epoch 93/100\n",
            "3/3 [==============================] - 0s 6ms/step - loss: 3.8431 - mae: 3.8431\n",
            "Epoch 94/100\n",
            "3/3 [==============================] - 0s 5ms/step - loss: 3.9401 - mae: 3.9401\n",
            "Epoch 95/100\n",
            "3/3 [==============================] - 0s 5ms/step - loss: 4.0919 - mae: 4.0919\n",
            "Epoch 96/100\n",
            "3/3 [==============================] - 0s 5ms/step - loss: 3.7021 - mae: 3.7021\n",
            "Epoch 97/100\n",
            "3/3 [==============================] - 0s 5ms/step - loss: 3.7134 - mae: 3.7134\n",
            "Epoch 98/100\n",
            "3/3 [==============================] - 0s 6ms/step - loss: 3.7986 - mae: 3.7986\n",
            "Epoch 99/100\n",
            "3/3 [==============================] - 0s 5ms/step - loss: 3.7063 - mae: 3.7063\n",
            "Epoch 100/100\n",
            "3/3 [==============================] - 0s 5ms/step - loss: 3.7912 - mae: 3.7912\n"
          ]
        },
        {
          "output_type": "execute_result",
          "data": {
            "text/plain": [
              "<keras.src.callbacks.History at 0x7f5a0f6f2320>"
            ]
          },
          "metadata": {},
          "execution_count": 67
        }
      ]
    },
    {
      "cell_type": "code",
      "source": [
        "model.summary()"
      ],
      "metadata": {
        "colab": {
          "base_uri": "https://localhost:8080/"
        },
        "id": "ShCDbEi-3Gkj",
        "outputId": "00ab47df-6335-4988-88e6-4d71a797f013"
      },
      "execution_count": 68,
      "outputs": [
        {
          "output_type": "stream",
          "name": "stdout",
          "text": [
            "Model: \"sequential_9\"\n",
            "_________________________________________________________________\n",
            " Layer (type)                Output Shape              Param #   \n",
            "=================================================================\n",
            " dense_13 (Dense)            (None, 100)               200       \n",
            "                                                                 \n",
            " dense_14 (Dense)            (None, 1)                 101       \n",
            "                                                                 \n",
            "=================================================================\n",
            "Total params: 301 (1.18 KB)\n",
            "Trainable params: 301 (1.18 KB)\n",
            "Non-trainable params: 0 (0.00 Byte)\n",
            "_________________________________________________________________\n"
          ]
        }
      ]
    },
    {
      "cell_type": "code",
      "source": [
        "y_pred = model.predict(X_test)"
      ],
      "metadata": {
        "colab": {
          "base_uri": "https://localhost:8080/"
        },
        "id": "cMEzhAkB5hfF",
        "outputId": "880bbf3d-19cc-4d32-d6d5-c39bea6cc113"
      },
      "execution_count": 69,
      "outputs": [
        {
          "output_type": "stream",
          "name": "stdout",
          "text": [
            "1/1 [==============================] - 0s 43ms/step\n"
          ]
        }
      ]
    },
    {
      "cell_type": "code",
      "source": [
        "y_pred"
      ],
      "metadata": {
        "colab": {
          "base_uri": "https://localhost:8080/"
        },
        "id": "Oxi1OXio5hhE",
        "outputId": "7d93c3ba-21e1-43c4-a140-8a06a81e44b8"
      },
      "execution_count": 70,
      "outputs": [
        {
          "output_type": "execute_result",
          "data": {
            "text/plain": [
              "array([[ 72.9592  ],\n",
              "       [ 75.38424 ],\n",
              "       [ 77.80929 ],\n",
              "       [ 80.234314],\n",
              "       [ 82.65936 ],\n",
              "       [ 85.084404],\n",
              "       [ 87.509445],\n",
              "       [ 89.93448 ],\n",
              "       [ 92.35951 ],\n",
              "       [ 94.78455 ],\n",
              "       [ 97.20961 ],\n",
              "       [ 99.634636],\n",
              "       [102.05968 ],\n",
              "       [104.484726],\n",
              "       [106.90977 ],\n",
              "       [109.33481 ],\n",
              "       [111.75984 ],\n",
              "       [114.1849  ],\n",
              "       [116.609924],\n",
              "       [119.034966]], dtype=float32)"
            ]
          },
          "metadata": {},
          "execution_count": 70
        }
      ]
    },
    {
      "cell_type": "code",
      "source": [
        "def plotPerformance(X_train,y_train,X_test,y_test,y_pred):\n",
        "  plt.scatter(X_train,y_train,c=\"b\",label =\"training\")\n",
        "  plt.scatter(X_test,y_test,c=\"r\",label =\"testing\")\n",
        "  plt.scatter(X_test,y_pred,c=\"g\",label =\"predictions\")\n",
        "  plt.legend();\n"
      ],
      "metadata": {
        "id": "4ntL0INZ5hjK"
      },
      "execution_count": 71,
      "outputs": []
    },
    {
      "cell_type": "code",
      "source": [
        "plotPerformance(X_train,y_train,X_test,y_test,y_pred)"
      ],
      "metadata": {
        "colab": {
          "base_uri": "https://localhost:8080/",
          "height": 430
        },
        "id": "vnB_HbOn5hk-",
        "outputId": "293d5b7b-6707-40f4-d634-3cb9cd83e26d"
      },
      "execution_count": 72,
      "outputs": [
        {
          "output_type": "display_data",
          "data": {
            "text/plain": [
              "<Figure size 640x480 with 1 Axes>"
            ],
            "image/png": "[encoded data removed]"
          },
          "metadata": {}
        }
      ]
    },
    {
      "cell_type": "code",
      "source": [
        "X_test"
      ],
      "metadata": {
        "colab": {
          "base_uri": "https://localhost:8080/"
        },
        "id": "ETrtzlmq5hmz",
        "outputId": "d9fcc742-3856-4305-ab64-6a5a250e2641"
      },
      "execution_count": 36,
      "outputs": [
        {
          "output_type": "execute_result",
          "data": {
            "text/plain": [
              "<tf.Tensor: shape=(20,), dtype=float32, numpy=\n",
              "array([60., 62., 64., 66., 68., 70., 72., 74., 76., 78., 80., 82., 84.,\n",
              "       86., 88., 90., 92., 94., 96., 98.], dtype=float32)>"
            ]
          },
          "metadata": {},
          "execution_count": 36
        }
      ]
    },
    {
      "cell_type": "code",
      "source": [
        "y_test"
      ],
      "metadata": {
        "colab": {
          "base_uri": "https://localhost:8080/"
        },
        "id": "W8eGkSGB5hpJ",
        "outputId": "071be1cf-ae0e-4f7a-c676-cfd931799425"
      },
      "execution_count": 37,
      "outputs": [
        {
          "output_type": "execute_result",
          "data": {
            "text/plain": [
              "<tf.Tensor: shape=(20,), dtype=float32, numpy=\n",
              "array([ 69.84886 ,  70.58319 ,  71.77526 ,  75.366905,  78.52143 ,\n",
              "        78.437706,  81.35003 ,  82.60714 ,  85.11982 ,  86.09202 ,\n",
              "        87.9784  ,  90.9434  ,  93.19323 ,  94.43184 ,  95.60269 ,\n",
              "       101.2194  , 101.00713 , 103.560486, 104.091194, 109.18843 ],\n",
              "      dtype=float32)>"
            ]
          },
          "metadata": {},
          "execution_count": 37
        }
      ]
    },
    {
      "cell_type": "code",
      "source": [
        "y_pred"
      ],
      "metadata": {
        "colab": {
          "base_uri": "https://localhost:8080/"
        },
        "id": "rkELDiS7OYxL",
        "outputId": "9359fbae-4942-4d3f-e41b-85c47cf1ca8b"
      },
      "execution_count": 38,
      "outputs": [
        {
          "output_type": "execute_result",
          "data": {
            "text/plain": [
              "array([[53.031643],\n",
              "       [54.73255 ],\n",
              "       [56.43346 ],\n",
              "       [58.13437 ],\n",
              "       [59.835278],\n",
              "       [61.536186],\n",
              "       [63.237095],\n",
              "       [64.938   ],\n",
              "       [66.63891 ],\n",
              "       [68.33982 ],\n",
              "       [70.040726],\n",
              "       [71.74164 ],\n",
              "       [73.44254 ],\n",
              "       [75.143456],\n",
              "       [76.84436 ],\n",
              "       [78.54527 ],\n",
              "       [80.24618 ],\n",
              "       [81.94709 ],\n",
              "       [83.648   ],\n",
              "       [85.34891 ]], dtype=float32)"
            ]
          },
          "metadata": {},
          "execution_count": 38
        }
      ]
    },
    {
      "cell_type": "code",
      "source": [],
      "metadata": {
        "id": "zTlZbSy2OaMz"
      },
      "execution_count": null,
      "outputs": []
    }
  ]
}