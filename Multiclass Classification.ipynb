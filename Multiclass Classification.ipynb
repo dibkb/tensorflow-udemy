{
 "cells": [
  {
   "cell_type": "code",
   "execution_count": 1,
   "id": "8d4f6a12",
   "metadata": {},
   "outputs": [],
   "source": [
    "import tensorflow as tf\n",
    "import tensorflow_datasets as tfds\n",
    "import matplotlib.pyplot as plt\n",
    "import random"
   ]
  },
  {
   "cell_type": "code",
   "execution_count": 2,
   "id": "eacd086c",
   "metadata": {},
   "outputs": [],
   "source": [
    "# Construct a tf.data.Dataset\n",
    "from tensorflow.keras.datasets import fashion_mnist\n",
    "# The data has already been sorted into training and test sets for us\n",
    "(train_data, train_labels), (test_data, test_labels) = fashion_mnist.load_data()"
   ]
  },
  {
   "cell_type": "code",
   "execution_count": 3,
   "id": "27ec868d",
   "metadata": {},
   "outputs": [],
   "source": [
    "class_names = ['T-shirt/top', 'Trouser', 'Pullover', 'Dress', 'Coat',\n",
    "               'Sandal', 'Shirt', 'Sneaker', 'Bag', 'Ankle boot']"
   ]
  },
  {
   "cell_type": "code",
   "execution_count": 4,
   "id": "05f99196",
   "metadata": {},
   "outputs": [],
   "source": [
    "def show_img(index):\n",
    "    plt.figure(figsize=(1.5, 1.5))\n",
    "    plt.imshow(train_data[index], cmap=plt.cm.binary)\n",
    "    plt.title(f\"Label: {class_names[train_labels[index]]}\")\n",
    "    plt.axis('off')\n",
    "    plt.show() "
   ]
  },
  {
   "cell_type": "code",
   "execution_count": 5,
   "id": "89101b49",
   "metadata": {},
   "outputs": [],
   "source": [
    "def plot_random():\n",
    "    plt.figure(figsize=(4, 4))\n",
    "    for i in range(4):\n",
    "        ax = plt.subplot(2, 2, i + 1)\n",
    "        rand_index = random.choice(range(len(train_data)))\n",
    "        plt.imshow(train_data[rand_index], cmap=plt.cm.binary)\n",
    "        plt.title(f\"Label: {class_names[train_labels[rand_index]]}\")\n",
    "        plt.axis('off')\n",
    "    plt.show()"
   ]
  },
  {
   "cell_type": "code",
   "execution_count": 6,
   "id": "7c1da404",
   "metadata": {},
   "outputs": [
    {
     "data": {
      "image/png": "[encoded data removed]",
      "text/plain": [
       "<Figure size 150x150 with 1 Axes>"
      ]
     },
     "metadata": {},
     "output_type": "display_data"
    }
   ],
   "source": [
    "show_img(0)"
   ]
  },
  {
   "cell_type": "code",
   "execution_count": 7,
   "id": "68d905e6",
   "metadata": {},
   "outputs": [
    {
     "data": {
      "image/png": "[encoded data removed]",
      "text/plain": [
       "<Figure size 150x150 with 1 Axes>"
      ]
     },
     "metadata": {},
     "output_type": "display_data"
    }
   ],
   "source": [
    "show_img(9)"
   ]
  },
  {
   "cell_type": "code",
   "execution_count": 8,
   "id": "6a15ee5c",
   "metadata": {},
   "outputs": [
    {
     "data": {
      "image/png": "[encoded data removed]",
      "text/plain": [
       "<Figure size 400x400 with 4 Axes>"
      ]
     },
     "metadata": {},
     "output_type": "display_data"
    }
   ],
   "source": [
    "plot_random()"
   ]
  },
  {
   "cell_type": "markdown",
   "id": "c039bc47",
   "metadata": {},
   "source": [
    "### Build a classification model\n",
    "- Input shape - (28x28)\n",
    "- Output shape - 10\n",
    "- Loss function - Categorical Crossentropy\n",
    "- Output activation - Softmax\n"
   ]
  },
  {
   "cell_type": "code",
   "execution_count": 31,
   "id": "4bca9600",
   "metadata": {},
   "outputs": [
    {
     "name": "stdout",
     "output_type": "stream",
     "text": [
      "Epoch 1/18\n",
      "1875/1875 [==============================] - 3s 1ms/step - loss: 1.0799 - accuracy: 0.7850 - val_loss: 0.5486 - val_accuracy: 0.7982\n",
      "Epoch 2/18\n",
      "1875/1875 [==============================] - 2s 1ms/step - loss: 0.4603 - accuracy: 0.8375 - val_loss: 0.4312 - val_accuracy: 0.8483\n",
      "Epoch 3/18\n",
      "1875/1875 [==============================] - 2s 1ms/step - loss: 0.4321 - accuracy: 0.8474 - val_loss: 0.4485 - val_accuracy: 0.8501\n",
      "Epoch 4/18\n",
      "1875/1875 [==============================] - 2s 1ms/step - loss: 0.3978 - accuracy: 0.8597 - val_loss: 0.4305 - val_accuracy: 0.8522\n",
      "Epoch 5/18\n",
      "1875/1875 [==============================] - 2s 1ms/step - loss: 0.3718 - accuracy: 0.8666 - val_loss: 0.4366 - val_accuracy: 0.8400\n",
      "Epoch 6/18\n",
      "1875/1875 [==============================] - 2s 1ms/step - loss: 0.3573 - accuracy: 0.8729 - val_loss: 0.4447 - val_accuracy: 0.8452\n",
      "Epoch 7/18\n",
      "1875/1875 [==============================] - 2s 1ms/step - loss: 0.3440 - accuracy: 0.8771 - val_loss: 0.4098 - val_accuracy: 0.8620\n",
      "Epoch 8/18\n",
      "1875/1875 [==============================] - 2s 1ms/step - loss: 0.3305 - accuracy: 0.8819 - val_loss: 0.3877 - val_accuracy: 0.8711\n",
      "Epoch 9/18\n",
      "1875/1875 [==============================] - 2s 1ms/step - loss: 0.3225 - accuracy: 0.8852 - val_loss: 0.3850 - val_accuracy: 0.8650\n",
      "Epoch 10/18\n",
      "1875/1875 [==============================] - 2s 1ms/step - loss: 0.3162 - accuracy: 0.8873 - val_loss: 0.3819 - val_accuracy: 0.8715\n",
      "Epoch 11/18\n",
      "1875/1875 [==============================] - 2s 1ms/step - loss: 0.3011 - accuracy: 0.8917 - val_loss: 0.3694 - val_accuracy: 0.8724\n",
      "Epoch 12/18\n",
      "1875/1875 [==============================] - 2s 1ms/step - loss: 0.3140 - accuracy: 0.8920 - val_loss: 0.3997 - val_accuracy: 0.8669\n",
      "Epoch 13/18\n",
      "1875/1875 [==============================] - 2s 1ms/step - loss: 0.2898 - accuracy: 0.8956 - val_loss: 0.3821 - val_accuracy: 0.8716\n",
      "Epoch 14/18\n",
      "1875/1875 [==============================] - 2s 1ms/step - loss: 0.2848 - accuracy: 0.8966 - val_loss: 0.3931 - val_accuracy: 0.8667\n",
      "Epoch 15/18\n",
      "1875/1875 [==============================] - 2s 1ms/step - loss: 0.2800 - accuracy: 0.8984 - val_loss: 0.4045 - val_accuracy: 0.8754\n",
      "Epoch 16/18\n",
      "1875/1875 [==============================] - 2s 1ms/step - loss: 0.2782 - accuracy: 0.8995 - val_loss: 0.4180 - val_accuracy: 0.8704\n",
      "Epoch 17/18\n",
      "1875/1875 [==============================] - 2s 1ms/step - loss: 0.2715 - accuracy: 0.9019 - val_loss: 0.4835 - val_accuracy: 0.8739\n",
      "Epoch 18/18\n",
      "1875/1875 [==============================] - 2s 1ms/step - loss: 0.2724 - accuracy: 0.9006 - val_loss: 0.3768 - val_accuracy: 0.8780\n"
     ]
    }
   ],
   "source": [
    "model_one = tf.keras.Sequential([\n",
    "    tf.keras.layers.Flatten(input_shape=(28, 28)),\n",
    "    tf.keras.layers.Dense(512,activation=\"relu\"),\n",
    "    tf.keras.layers.Dense(256,activation=\"relu\"),\n",
    "    tf.keras.layers.Dense(128,activation=\"relu\"),\n",
    "    tf.keras.layers.Dense(64,activation=\"relu\"),\n",
    "    tf.keras.layers.Dense(10,activation=\"softmax\"),\n",
    "])\n",
    "model_one.compile(optimizer=\"adam\",loss =\"sparse_categorical_crossentropy\",metrics=[\"accuracy\"])\n",
    "non_norm_history = model_one.fit(train_data,\n",
    "                                train_labels,\n",
    "                                epochs=18,\n",
    "                                validation_data=(test_data, test_labels),verbose=1)"
   ]
  },
  {
   "cell_type": "code",
   "execution_count": 32,
   "id": "de2e1ce5",
   "metadata": {
    "scrolled": true
   },
   "outputs": [
    {
     "name": "stdout",
     "output_type": "stream",
     "text": [
      "Model: \"sequential_3\"\n",
      "_________________________________________________________________\n",
      " Layer (type)                Output Shape              Param #   \n",
      "=================================================================\n",
      " flatten_3 (Flatten)         (None, 784)               0         \n",
      "                                                                 \n",
      " dense_18 (Dense)            (None, 512)               401920    \n",
      "                                                                 \n",
      " dense_19 (Dense)            (None, 256)               131328    \n",
      "                                                                 \n",
      " dense_20 (Dense)            (None, 128)               32896     \n",
      "                                                                 \n",
      " dense_21 (Dense)            (None, 64)                8256      \n",
      "                                                                 \n",
      " dense_22 (Dense)            (None, 10)                650       \n",
      "                                                                 \n",
      "=================================================================\n",
      "Total params: 575,050\n",
      "Trainable params: 575,050\n",
      "Non-trainable params: 0\n",
      "_________________________________________________________________\n"
     ]
    }
   ],
   "source": [
    "model_one.summary()"
   ]
  },
  {
   "cell_type": "code",
   "execution_count": 33,
   "id": "d0dbe90b",
   "metadata": {},
   "outputs": [
    {
     "data": {
      "text/html": [
       "<div>\n",
       "<style scoped>\n",
       "    .dataframe tbody tr th:only-of-type {\n",
       "        vertical-align: middle;\n",
       "    }\n",
       "\n",
       "    .dataframe tbody tr th {\n",
       "        vertical-align: top;\n",
       "    }\n",
       "\n",
       "    .dataframe thead th {\n",
       "        text-align: right;\n",
       "    }\n",
       "</style>\n",
       "<table border=\"1\" class=\"dataframe\">\n",
       "  <thead>\n",
       "    <tr style=\"text-align: right;\">\n",
       "      <th></th>\n",
       "      <th>loss</th>\n",
       "      <th>accuracy</th>\n",
       "      <th>val_loss</th>\n",
       "      <th>val_accuracy</th>\n",
       "    </tr>\n",
       "  </thead>\n",
       "  <tbody>\n",
       "    <tr>\n",
       "      <th>0</th>\n",
       "      <td>1.079880</td>\n",
       "      <td>0.785033</td>\n",
       "      <td>0.548599</td>\n",
       "      <td>0.7982</td>\n",
       "    </tr>\n",
       "    <tr>\n",
       "      <th>1</th>\n",
       "      <td>0.460329</td>\n",
       "      <td>0.837450</td>\n",
       "      <td>0.431231</td>\n",
       "      <td>0.8483</td>\n",
       "    </tr>\n",
       "    <tr>\n",
       "      <th>2</th>\n",
       "      <td>0.432055</td>\n",
       "      <td>0.847400</td>\n",
       "      <td>0.448536</td>\n",
       "      <td>0.8501</td>\n",
       "    </tr>\n",
       "    <tr>\n",
       "      <th>3</th>\n",
       "      <td>0.397769</td>\n",
       "      <td>0.859650</td>\n",
       "      <td>0.430515</td>\n",
       "      <td>0.8522</td>\n",
       "    </tr>\n",
       "    <tr>\n",
       "      <th>4</th>\n",
       "      <td>0.371835</td>\n",
       "      <td>0.866650</td>\n",
       "      <td>0.436649</td>\n",
       "      <td>0.8400</td>\n",
       "    </tr>\n",
       "    <tr>\n",
       "      <th>5</th>\n",
       "      <td>0.357308</td>\n",
       "      <td>0.872917</td>\n",
       "      <td>0.444746</td>\n",
       "      <td>0.8452</td>\n",
       "    </tr>\n",
       "    <tr>\n",
       "      <th>6</th>\n",
       "      <td>0.343984</td>\n",
       "      <td>0.877133</td>\n",
       "      <td>0.409826</td>\n",
       "      <td>0.8620</td>\n",
       "    </tr>\n",
       "    <tr>\n",
       "      <th>7</th>\n",
       "      <td>0.330505</td>\n",
       "      <td>0.881850</td>\n",
       "      <td>0.387749</td>\n",
       "      <td>0.8711</td>\n",
       "    </tr>\n",
       "    <tr>\n",
       "      <th>8</th>\n",
       "      <td>0.322466</td>\n",
       "      <td>0.885200</td>\n",
       "      <td>0.384982</td>\n",
       "      <td>0.8650</td>\n",
       "    </tr>\n",
       "    <tr>\n",
       "      <th>9</th>\n",
       "      <td>0.316192</td>\n",
       "      <td>0.887317</td>\n",
       "      <td>0.381884</td>\n",
       "      <td>0.8715</td>\n",
       "    </tr>\n",
       "    <tr>\n",
       "      <th>10</th>\n",
       "      <td>0.301122</td>\n",
       "      <td>0.891750</td>\n",
       "      <td>0.369400</td>\n",
       "      <td>0.8724</td>\n",
       "    </tr>\n",
       "    <tr>\n",
       "      <th>11</th>\n",
       "      <td>0.313987</td>\n",
       "      <td>0.891950</td>\n",
       "      <td>0.399745</td>\n",
       "      <td>0.8669</td>\n",
       "    </tr>\n",
       "    <tr>\n",
       "      <th>12</th>\n",
       "      <td>0.289818</td>\n",
       "      <td>0.895617</td>\n",
       "      <td>0.382097</td>\n",
       "      <td>0.8716</td>\n",
       "    </tr>\n",
       "    <tr>\n",
       "      <th>13</th>\n",
       "      <td>0.284812</td>\n",
       "      <td>0.896617</td>\n",
       "      <td>0.393090</td>\n",
       "      <td>0.8667</td>\n",
       "    </tr>\n",
       "    <tr>\n",
       "      <th>14</th>\n",
       "      <td>0.279966</td>\n",
       "      <td>0.898350</td>\n",
       "      <td>0.404529</td>\n",
       "      <td>0.8754</td>\n",
       "    </tr>\n",
       "    <tr>\n",
       "      <th>15</th>\n",
       "      <td>0.278218</td>\n",
       "      <td>0.899483</td>\n",
       "      <td>0.418017</td>\n",
       "      <td>0.8704</td>\n",
       "    </tr>\n",
       "    <tr>\n",
       "      <th>16</th>\n",
       "      <td>0.271503</td>\n",
       "      <td>0.901867</td>\n",
       "      <td>0.483493</td>\n",
       "      <td>0.8739</td>\n",
       "    </tr>\n",
       "    <tr>\n",
       "      <th>17</th>\n",
       "      <td>0.272398</td>\n",
       "      <td>0.900633</td>\n",
       "      <td>0.376813</td>\n",
       "      <td>0.8780</td>\n",
       "    </tr>\n",
       "  </tbody>\n",
       "</table>\n",
       "</div>"
      ],
      "text/plain": [
       "        loss  accuracy  val_loss  val_accuracy\n",
       "0   1.079880  0.785033  0.548599        0.7982\n",
       "1   0.460329  0.837450  0.431231        0.8483\n",
       "2   0.432055  0.847400  0.448536        0.8501\n",
       "3   0.397769  0.859650  0.430515        0.8522\n",
       "4   0.371835  0.866650  0.436649        0.8400\n",
       "5   0.357308  0.872917  0.444746        0.8452\n",
       "6   0.343984  0.877133  0.409826        0.8620\n",
       "7   0.330505  0.881850  0.387749        0.8711\n",
       "8   0.322466  0.885200  0.384982        0.8650\n",
       "9   0.316192  0.887317  0.381884        0.8715\n",
       "10  0.301122  0.891750  0.369400        0.8724\n",
       "11  0.313987  0.891950  0.399745        0.8669\n",
       "12  0.289818  0.895617  0.382097        0.8716\n",
       "13  0.284812  0.896617  0.393090        0.8667\n",
       "14  0.279966  0.898350  0.404529        0.8754\n",
       "15  0.278218  0.899483  0.418017        0.8704\n",
       "16  0.271503  0.901867  0.483493        0.8739\n",
       "17  0.272398  0.900633  0.376813        0.8780"
      ]
     },
     "execution_count": 33,
     "metadata": {},
     "output_type": "execute_result"
    }
   ],
   "source": [
    "import pandas as pd\n",
    "pd.DataFrame(non_norm_history.history)"
   ]
  },
  {
   "cell_type": "code",
   "execution_count": 34,
   "id": "b63ad8bd",
   "metadata": {},
   "outputs": [
    {
     "data": {
      "text/plain": [
       "<Axes: >"
      ]
     },
     "execution_count": 34,
     "metadata": {},
     "output_type": "execute_result"
    },
    {
     "data": {
      "image/png": "[encoded data removed]",
      "text/plain": [
       "<Figure size 640x480 with 1 Axes>"
      ]
     },
     "metadata": {},
     "output_type": "display_data"
    }
   ],
   "source": [
    "pd.DataFrame(non_norm_history.history).plot()"
   ]
  },
  {
   "cell_type": "markdown",
   "id": "fba87b64",
   "metadata": {},
   "source": [
    "#### Pre-processing"
   ]
  },
  {
   "cell_type": "code",
   "execution_count": 37,
   "id": "95cee04b",
   "metadata": {},
   "outputs": [],
   "source": [
    "train_data_norm = train_data/train_data.max()\n",
    "test_data_norm = test_data/train_data.max()"
   ]
  },
  {
   "cell_type": "code",
   "execution_count": 43,
   "id": "61335272",
   "metadata": {},
   "outputs": [
    {
     "name": "stdout",
     "output_type": "stream",
     "text": [
      "Epoch 1/18\n",
      "1875/1875 [==============================] - 3s 1ms/step - loss: 0.4925 - accuracy: 0.8229 - val_loss: 0.3907 - val_accuracy: 0.8587\n",
      "Epoch 2/18\n",
      "1875/1875 [==============================] - 3s 1ms/step - loss: 0.3715 - accuracy: 0.8637 - val_loss: 0.3765 - val_accuracy: 0.8638\n",
      "Epoch 3/18\n",
      "1875/1875 [==============================] - 3s 1ms/step - loss: 0.3323 - accuracy: 0.8783 - val_loss: 0.3736 - val_accuracy: 0.8647\n",
      "Epoch 4/18\n",
      "1875/1875 [==============================] - 3s 2ms/step - loss: 0.3097 - accuracy: 0.8856 - val_loss: 0.3664 - val_accuracy: 0.8713\n",
      "Epoch 5/18\n",
      "1875/1875 [==============================] - 3s 1ms/step - loss: 0.2928 - accuracy: 0.8917 - val_loss: 0.3545 - val_accuracy: 0.8798\n",
      "Epoch 6/18\n",
      "1875/1875 [==============================] - 3s 1ms/step - loss: 0.2774 - accuracy: 0.8967 - val_loss: 0.3459 - val_accuracy: 0.8765\n",
      "Epoch 7/18\n",
      "1875/1875 [==============================] - 3s 1ms/step - loss: 0.2625 - accuracy: 0.9023 - val_loss: 0.3455 - val_accuracy: 0.8796\n",
      "Epoch 8/18\n",
      "1875/1875 [==============================] - 3s 1ms/step - loss: 0.2549 - accuracy: 0.9049 - val_loss: 0.3330 - val_accuracy: 0.8851\n",
      "Epoch 9/18\n",
      "1875/1875 [==============================] - 3s 1ms/step - loss: 0.2414 - accuracy: 0.9089 - val_loss: 0.3408 - val_accuracy: 0.8853\n",
      "Epoch 10/18\n",
      "1875/1875 [==============================] - 3s 1ms/step - loss: 0.2361 - accuracy: 0.9107 - val_loss: 0.3516 - val_accuracy: 0.8822\n",
      "Epoch 11/18\n",
      "1875/1875 [==============================] - 3s 1ms/step - loss: 0.2270 - accuracy: 0.9137 - val_loss: 0.3278 - val_accuracy: 0.8879\n",
      "Epoch 12/18\n",
      "1875/1875 [==============================] - 3s 1ms/step - loss: 0.2173 - accuracy: 0.9187 - val_loss: 0.3513 - val_accuracy: 0.8810\n",
      "Epoch 13/18\n",
      "1875/1875 [==============================] - 3s 1ms/step - loss: 0.2122 - accuracy: 0.9185 - val_loss: 0.3562 - val_accuracy: 0.8874\n",
      "Epoch 14/18\n",
      "1875/1875 [==============================] - 3s 1ms/step - loss: 0.2041 - accuracy: 0.9222 - val_loss: 0.3841 - val_accuracy: 0.8776\n",
      "Epoch 15/18\n",
      "1875/1875 [==============================] - 3s 1ms/step - loss: 0.2002 - accuracy: 0.9231 - val_loss: 0.3557 - val_accuracy: 0.8864\n",
      "Epoch 16/18\n",
      "1875/1875 [==============================] - 3s 1ms/step - loss: 0.1938 - accuracy: 0.9257 - val_loss: 0.3829 - val_accuracy: 0.8878\n",
      "Epoch 17/18\n",
      "1875/1875 [==============================] - 3s 1ms/step - loss: 0.1880 - accuracy: 0.9284 - val_loss: 0.3849 - val_accuracy: 0.8834\n",
      "Epoch 18/18\n",
      "1875/1875 [==============================] - 3s 1ms/step - loss: 0.1851 - accuracy: 0.9299 - val_loss: 0.3658 - val_accuracy: 0.8867\n"
     ]
    }
   ],
   "source": [
    "# train the same model\n",
    "model_two = tf.keras.Sequential([\n",
    "    tf.keras.layers.Flatten(input_shape=(28,28)),\n",
    "    tf.keras.layers.Dense(512,activation='relu'),\n",
    "    tf.keras.layers.Dense(256,activation='relu'),\n",
    "    tf.keras.layers.Dense(128,activation='relu'),\n",
    "    tf.keras.layers.Dense(64,activation='relu'),\n",
    "    tf.keras.layers.Dense(10,activation='softmax')\n",
    "])\n",
    "model_two.compile(loss=\"sparse_categorical_crossentropy\",optimizer='adam',metrics=['accuracy'])\n",
    "norm_history = model_two.fit(train_data_norm,train_labels,epochs=18,validation_data=(test_data_norm, test_labels))"
   ]
  },
  {
   "cell_type": "code",
   "execution_count": 45,
   "id": "d710823b",
   "metadata": {},
   "outputs": [
    {
     "data": {
      "text/html": [
       "<div>\n",
       "<style scoped>\n",
       "    .dataframe tbody tr th:only-of-type {\n",
       "        vertical-align: middle;\n",
       "    }\n",
       "\n",
       "    .dataframe tbody tr th {\n",
       "        vertical-align: top;\n",
       "    }\n",
       "\n",
       "    .dataframe thead th {\n",
       "        text-align: right;\n",
       "    }\n",
       "</style>\n",
       "<table border=\"1\" class=\"dataframe\">\n",
       "  <thead>\n",
       "    <tr style=\"text-align: right;\">\n",
       "      <th></th>\n",
       "      <th>loss</th>\n",
       "      <th>accuracy</th>\n",
       "      <th>val_loss</th>\n",
       "      <th>val_accuracy</th>\n",
       "    </tr>\n",
       "  </thead>\n",
       "  <tbody>\n",
       "    <tr>\n",
       "      <th>0</th>\n",
       "      <td>0.492544</td>\n",
       "      <td>0.822883</td>\n",
       "      <td>0.390742</td>\n",
       "      <td>0.8587</td>\n",
       "    </tr>\n",
       "    <tr>\n",
       "      <th>1</th>\n",
       "      <td>0.371466</td>\n",
       "      <td>0.863700</td>\n",
       "      <td>0.376474</td>\n",
       "      <td>0.8638</td>\n",
       "    </tr>\n",
       "    <tr>\n",
       "      <th>2</th>\n",
       "      <td>0.332292</td>\n",
       "      <td>0.878250</td>\n",
       "      <td>0.373595</td>\n",
       "      <td>0.8647</td>\n",
       "    </tr>\n",
       "    <tr>\n",
       "      <th>3</th>\n",
       "      <td>0.309692</td>\n",
       "      <td>0.885550</td>\n",
       "      <td>0.366398</td>\n",
       "      <td>0.8713</td>\n",
       "    </tr>\n",
       "    <tr>\n",
       "      <th>4</th>\n",
       "      <td>0.292758</td>\n",
       "      <td>0.891733</td>\n",
       "      <td>0.354545</td>\n",
       "      <td>0.8798</td>\n",
       "    </tr>\n",
       "    <tr>\n",
       "      <th>5</th>\n",
       "      <td>0.277388</td>\n",
       "      <td>0.896717</td>\n",
       "      <td>0.345930</td>\n",
       "      <td>0.8765</td>\n",
       "    </tr>\n",
       "    <tr>\n",
       "      <th>6</th>\n",
       "      <td>0.262475</td>\n",
       "      <td>0.902300</td>\n",
       "      <td>0.345545</td>\n",
       "      <td>0.8796</td>\n",
       "    </tr>\n",
       "    <tr>\n",
       "      <th>7</th>\n",
       "      <td>0.254855</td>\n",
       "      <td>0.904850</td>\n",
       "      <td>0.332951</td>\n",
       "      <td>0.8851</td>\n",
       "    </tr>\n",
       "    <tr>\n",
       "      <th>8</th>\n",
       "      <td>0.241418</td>\n",
       "      <td>0.908867</td>\n",
       "      <td>0.340815</td>\n",
       "      <td>0.8853</td>\n",
       "    </tr>\n",
       "    <tr>\n",
       "      <th>9</th>\n",
       "      <td>0.236091</td>\n",
       "      <td>0.910733</td>\n",
       "      <td>0.351553</td>\n",
       "      <td>0.8822</td>\n",
       "    </tr>\n",
       "    <tr>\n",
       "      <th>10</th>\n",
       "      <td>0.227019</td>\n",
       "      <td>0.913700</td>\n",
       "      <td>0.327813</td>\n",
       "      <td>0.8879</td>\n",
       "    </tr>\n",
       "    <tr>\n",
       "      <th>11</th>\n",
       "      <td>0.217268</td>\n",
       "      <td>0.918717</td>\n",
       "      <td>0.351278</td>\n",
       "      <td>0.8810</td>\n",
       "    </tr>\n",
       "    <tr>\n",
       "      <th>12</th>\n",
       "      <td>0.212169</td>\n",
       "      <td>0.918467</td>\n",
       "      <td>0.356243</td>\n",
       "      <td>0.8874</td>\n",
       "    </tr>\n",
       "    <tr>\n",
       "      <th>13</th>\n",
       "      <td>0.204110</td>\n",
       "      <td>0.922200</td>\n",
       "      <td>0.384088</td>\n",
       "      <td>0.8776</td>\n",
       "    </tr>\n",
       "    <tr>\n",
       "      <th>14</th>\n",
       "      <td>0.200243</td>\n",
       "      <td>0.923133</td>\n",
       "      <td>0.355652</td>\n",
       "      <td>0.8864</td>\n",
       "    </tr>\n",
       "    <tr>\n",
       "      <th>15</th>\n",
       "      <td>0.193833</td>\n",
       "      <td>0.925683</td>\n",
       "      <td>0.382869</td>\n",
       "      <td>0.8878</td>\n",
       "    </tr>\n",
       "    <tr>\n",
       "      <th>16</th>\n",
       "      <td>0.188012</td>\n",
       "      <td>0.928450</td>\n",
       "      <td>0.384905</td>\n",
       "      <td>0.8834</td>\n",
       "    </tr>\n",
       "    <tr>\n",
       "      <th>17</th>\n",
       "      <td>0.185143</td>\n",
       "      <td>0.929867</td>\n",
       "      <td>0.365783</td>\n",
       "      <td>0.8867</td>\n",
       "    </tr>\n",
       "  </tbody>\n",
       "</table>\n",
       "</div>"
      ],
      "text/plain": [
       "        loss  accuracy  val_loss  val_accuracy\n",
       "0   0.492544  0.822883  0.390742        0.8587\n",
       "1   0.371466  0.863700  0.376474        0.8638\n",
       "2   0.332292  0.878250  0.373595        0.8647\n",
       "3   0.309692  0.885550  0.366398        0.8713\n",
       "4   0.292758  0.891733  0.354545        0.8798\n",
       "5   0.277388  0.896717  0.345930        0.8765\n",
       "6   0.262475  0.902300  0.345545        0.8796\n",
       "7   0.254855  0.904850  0.332951        0.8851\n",
       "8   0.241418  0.908867  0.340815        0.8853\n",
       "9   0.236091  0.910733  0.351553        0.8822\n",
       "10  0.227019  0.913700  0.327813        0.8879\n",
       "11  0.217268  0.918717  0.351278        0.8810\n",
       "12  0.212169  0.918467  0.356243        0.8874\n",
       "13  0.204110  0.922200  0.384088        0.8776\n",
       "14  0.200243  0.923133  0.355652        0.8864\n",
       "15  0.193833  0.925683  0.382869        0.8878\n",
       "16  0.188012  0.928450  0.384905        0.8834\n",
       "17  0.185143  0.929867  0.365783        0.8867"
      ]
     },
     "execution_count": 45,
     "metadata": {},
     "output_type": "execute_result"
    }
   ],
   "source": [
    "pd.DataFrame(norm_history.history)"
   ]
  },
  {
   "cell_type": "code",
   "execution_count": 46,
   "id": "f3916953",
   "metadata": {},
   "outputs": [
    {
     "data": {
      "text/plain": [
       "<Axes: >"
      ]
     },
     "execution_count": 46,
     "metadata": {},
     "output_type": "execute_result"
    },
    {
     "data": {
      "image/png": "[encoded data removed]",
      "text/plain": [
       "<Figure size 640x480 with 1 Axes>"
      ]
     },
     "metadata": {},
     "output_type": "display_data"
    }
   ],
   "source": [
    "pd.DataFrame(norm_history.history).plot()"
   ]
  },
  {
   "cell_type": "code",
   "execution_count": null,
   "id": "661300f8",
   "metadata": {},
   "outputs": [],
   "source": []
  }
 ],
 "metadata": {
  "kernelspec": {
   "display_name": "Python 3 (ipykernel)",
   "language": "python",
   "name": "python3"
  },
  "language_info": {
   "codemirror_mode": {
    "name": "ipython",
    "version": 3
   },
   "file_extension": ".py",
   "mimetype": "text/x-python",
   "name": "python",
   "nbconvert_exporter": "python",
   "pygments_lexer": "ipython3",
   "version": "3.11.5"
  }
 },
 "nbformat": 4,
 "nbformat_minor": 5
}
